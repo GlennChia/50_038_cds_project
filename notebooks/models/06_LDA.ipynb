{
 "cells": [
  {
   "cell_type": "code",
   "execution_count": 1,
   "metadata": {},
   "outputs": [],
   "source": [
    "import numpy as np \n",
    "import pandas as pd \n",
    "import matplotlib.pyplot as plt\n",
    "import seaborn as sns\n",
    "from time import time"
   ]
  },
  {
   "cell_type": "code",
   "execution_count": 2,
   "metadata": {},
   "outputs": [],
   "source": [
    "INPUT_DATA_DIR = '../../data/processed/'\n",
    "INPUT_FILE_NAME = 'squashed_tags.parquet'"
   ]
  },
  {
   "cell_type": "code",
   "execution_count": 3,
   "metadata": {},
   "outputs": [
    {
     "data": {
      "text/html": [
       "<div>\n",
       "<style scoped>\n",
       "    .dataframe tbody tr th:only-of-type {\n",
       "        vertical-align: middle;\n",
       "    }\n",
       "\n",
       "    .dataframe tbody tr th {\n",
       "        vertical-align: top;\n",
       "    }\n",
       "\n",
       "    .dataframe thead th {\n",
       "        text-align: right;\n",
       "    }\n",
       "</style>\n",
       "<table border=\"1\" class=\"dataframe\">\n",
       "  <thead>\n",
       "    <tr style=\"text-align: right;\">\n",
       "      <th></th>\n",
       "      <th>speaker</th>\n",
       "      <th>headline</th>\n",
       "      <th>description</th>\n",
       "      <th>duration</th>\n",
       "      <th>tags</th>\n",
       "      <th>transcript</th>\n",
       "      <th>WC</th>\n",
       "    </tr>\n",
       "  </thead>\n",
       "  <tbody>\n",
       "    <tr>\n",
       "      <th>0</th>\n",
       "      <td>Al Gore</td>\n",
       "      <td>Averting the climate crisis</td>\n",
       "      <td>With the same humor and humanity he exuded in ...</td>\n",
       "      <td>0:16:17</td>\n",
       "      <td>alternative energy,culture,politics,science,cl...</td>\n",
       "      <td>[thank, chris, truly, great, honor, opportunit...</td>\n",
       "      <td>2281.0</td>\n",
       "    </tr>\n",
       "    <tr>\n",
       "      <th>1</th>\n",
       "      <td>Amy Smith</td>\n",
       "      <td>Simple designs to save a life</td>\n",
       "      <td>Fumes from indoor cooking fires kill more than...</td>\n",
       "      <td>0:15:06</td>\n",
       "      <td>industrial design,alternative energy,invention...</td>\n",
       "      <td>[term, invention, like, tell, tale, favorite, ...</td>\n",
       "      <td>2687.0</td>\n",
       "    </tr>\n",
       "    <tr>\n",
       "      <th>2</th>\n",
       "      <td>Ashraf Ghani</td>\n",
       "      <td>How to rebuild a broken state</td>\n",
       "      <td>Ashraf Ghani's passionate and powerful 10-minu...</td>\n",
       "      <td>0:18:45</td>\n",
       "      <td>poverty,economics,investment,culture,politics,...</td>\n",
       "      <td>[public, dewey, long, ago, observe, constitute...</td>\n",
       "      <td>2506.0</td>\n",
       "    </tr>\n",
       "    <tr>\n",
       "      <th>3</th>\n",
       "      <td>Burt Rutan</td>\n",
       "      <td>The real future of space exploration</td>\n",
       "      <td>In this passionate talk, legendary spacecraft ...</td>\n",
       "      <td>0:19:37</td>\n",
       "      <td>industrial design,invention,engineering,entrep...</td>\n",
       "      <td>[want, start, say, houston, problem, enter, se...</td>\n",
       "      <td>3092.0</td>\n",
       "    </tr>\n",
       "    <tr>\n",
       "      <th>4</th>\n",
       "      <td>Chris Bangle</td>\n",
       "      <td>Great cars are great art</td>\n",
       "      <td>American designer Chris Bangle explains his ph...</td>\n",
       "      <td>0:20:04</td>\n",
       "      <td>industrial design,transportation,invention,des...</td>\n",
       "      <td>[want, talk, background, idea, car, art, actua...</td>\n",
       "      <td>3781.0</td>\n",
       "    </tr>\n",
       "  </tbody>\n",
       "</table>\n",
       "</div>"
      ],
      "text/plain": [
       "        speaker                              headline  \\\n",
       "0       Al Gore           Averting the climate crisis   \n",
       "1     Amy Smith         Simple designs to save a life   \n",
       "2  Ashraf Ghani         How to rebuild a broken state   \n",
       "3    Burt Rutan  The real future of space exploration   \n",
       "4  Chris Bangle              Great cars are great art   \n",
       "\n",
       "                                         description duration  \\\n",
       "0  With the same humor and humanity he exuded in ...  0:16:17   \n",
       "1  Fumes from indoor cooking fires kill more than...  0:15:06   \n",
       "2  Ashraf Ghani's passionate and powerful 10-minu...  0:18:45   \n",
       "3  In this passionate talk, legendary spacecraft ...  0:19:37   \n",
       "4  American designer Chris Bangle explains his ph...  0:20:04   \n",
       "\n",
       "                                                tags  \\\n",
       "0  alternative energy,culture,politics,science,cl...   \n",
       "1  industrial design,alternative energy,invention...   \n",
       "2  poverty,economics,investment,culture,politics,...   \n",
       "3  industrial design,invention,engineering,entrep...   \n",
       "4  industrial design,transportation,invention,des...   \n",
       "\n",
       "                                          transcript      WC  \n",
       "0  [thank, chris, truly, great, honor, opportunit...  2281.0  \n",
       "1  [term, invention, like, tell, tale, favorite, ...  2687.0  \n",
       "2  [public, dewey, long, ago, observe, constitute...  2506.0  \n",
       "3  [want, start, say, houston, problem, enter, se...  3092.0  \n",
       "4  [want, talk, background, idea, car, art, actua...  3781.0  "
      ]
     },
     "execution_count": 3,
     "metadata": {},
     "output_type": "execute_result"
    }
   ],
   "source": [
    "df = pd.read_parquet(INPUT_DATA_DIR + INPUT_FILE_NAME)\n",
    "df.head()"
   ]
  },
  {
   "cell_type": "code",
   "execution_count": 12,
   "metadata": {},
   "outputs": [
    {
     "data": {
      "text/plain": [
       "0       thank chris truly great honor opportunity come...\n",
       "1       term invention like tell tale favorite project...\n",
       "2       public dewey long ago observe constitute discu...\n",
       "3       want start say houston problem enter second ge...\n",
       "4       want talk background idea car art actually mea...\n",
       "                              ...                        \n",
       "2381    imagine walk even discover everybody room look...\n",
       "2382    pay close attention easy attention pull differ...\n",
       "2383    happy pic take senior college right dance prac...\n",
       "2384    sevenyearold grandson sleep hall wake lot morn...\n",
       "2385    michael brown engineer innovator inventor insp...\n",
       "Name: transcript, Length: 2386, dtype: object"
      ]
     },
     "execution_count": 12,
     "metadata": {},
     "output_type": "execute_result"
    }
   ],
   "source": [
    "temp = df['transcript']\n",
    "joined = []\n",
    "for ls in temp:\n",
    "    joined.append(\" \".join(ls))\n",
    "df['transcript'] = pd.Series(joined)\n",
    "df['transcript']"
   ]
  },
  {
   "cell_type": "code",
   "execution_count": 13,
   "metadata": {},
   "outputs": [
    {
     "name": "stdout",
     "output_type": "stream",
     "text": [
      "done in 1.306s.\n"
     ]
    }
   ],
   "source": [
    "from sklearn.feature_extraction.text import TfidfVectorizer\n",
    "vectorizer = TfidfVectorizer(stop_words=\"english\",\n",
    "                        use_idf=True,\n",
    "                        ngram_range=(1,1), # considering only 1-grams\n",
    "#                         min_df = 0.05,     # cut words present in less than 5% of documents\n",
    "                        max_df = 0.3)      # cut words present in more than 30% of documents \n",
    "t0 = time()\n",
    "\n",
    "tfidf = vectorizer.fit_transform(df['transcript'])\n",
    "print(\"done in %0.3fs.\" % (time() - t0))"
   ]
  },
  {
   "cell_type": "code",
   "execution_count": 14,
   "metadata": {},
   "outputs": [
    {
     "data": {
      "text/plain": [
       "{0: ['music', 'milo', 'cheer', 'gando', 'interviewer'],\n",
       " 1: ['behead', 'ja', 'sanitary', 'arduino', 'bonobo'],\n",
       " 2: ['trailer', 'dough', 'bow', 'pete', 'lollipop'],\n",
       " 3: ['oxytocin', 'heh', 'derek', 'rw', 'worthy'],\n",
       " 4: ['vagina', 'seti', 'cybercriminals', 'multitasking', 'socket'],\n",
       " 5: ['concussion', 'clonie', 'thylacine', 'remittance', 'solemn'],\n",
       " 6: ['whistle', 'tm', 'phosphorus', 'mindwandering', 'mizzone'],\n",
       " 7: ['aed', 'vulture', 'riaa', 'abalone', 'scrapper'],\n",
       " 8: ['edi', 'marshmallow', 'bf', 'gabby', 'obituary'],\n",
       " 9: ['giver', 'abed', 'cyrus', 'mola', 'carousel'],\n",
       " 10: ['tapir', 'vr', 'mo', 'lt', 'frugal'],\n",
       " 11: ['city', 'brain', 'data', 'community', 'company'],\n",
       " 12: ['rb', 'mockingbird', 'mammoth', 'neurogenesis', 'pollinator'],\n",
       " 13: ['honeybee', 'em', 'kiteflyers', 'cymatics', 'nl'],\n",
       " 14: ['higgs', 'lhc', 'wk', 'sw', 'boson'],\n",
       " 15: ['water', 'cell', 'planet', 'energy', 'earth'],\n",
       " 16: ['nsa', 'snowden', 'dividend', 'flint', 'protocell'],\n",
       " 17: ['quad', 'hp', 'trailer', 'superconductor', 'metronome'],\n",
       " 18: ['prison', 'gay', 'kenya', 'jail', 'terrorist'],\n",
       " 19: ['guerrilla', 'rezero', 'jihad', 'rejection', 'nathaniel']}"
      ]
     },
     "execution_count": 14,
     "metadata": {},
     "output_type": "execute_result"
    }
   ],
   "source": [
    "from sklearn.decomposition import LatentDirichletAllocation\n",
    "\n",
    "n_topics = 20\n",
    "lda = LatentDirichletAllocation(n_components=n_topics,random_state=0)\n",
    "\n",
    "topics = lda.fit_transform(tfidf)\n",
    "top_n_words = 5\n",
    "t_words, word_strengths = {}, {}\n",
    "for t_id, t in enumerate(lda.components_):\n",
    "    t_words[t_id] = [vectorizer.get_feature_names()[i] for i in t.argsort()[:-top_n_words - 1:-1]]\n",
    "    word_strengths[t_id] = t[t.argsort()[:-top_n_words - 1:-1]]\n",
    "t_words"
   ]
  },
  {
   "cell_type": "code",
   "execution_count": 15,
   "metadata": {},
   "outputs": [
    {
     "data": {
      "image/png": "[encoded data removed]",
      "text/plain": [
       "<Figure size 504x1080 with 10 Axes>"
      ]
     },
     "metadata": {
      "needs_background": "light"
     },
     "output_type": "display_data"
    }
   ],
   "source": [
    "fig, ax = plt.subplots(figsize=(7,15), ncols=2, nrows=5)\n",
    "plt.subplots_adjust(\n",
    "    wspace  =  0.5,\n",
    "    hspace  =  0.5\n",
    ")\n",
    "c=0\n",
    "for row in range(0,5):\n",
    "    for col in range(0,2):\n",
    "        sns.barplot(x=word_strengths[c], y=t_words[c], color=\"red\", ax=ax[row][col])\n",
    "        c+=1\n",
    "plt.show()"
   ]
  },
  {
   "cell_type": "code",
   "execution_count": 16,
   "metadata": {},
   "outputs": [],
   "source": [
    "# Formulating a pipeline to insert a document and extract the topics pertinency\n",
    "from sklearn.pipeline import Pipeline\n",
    "pipe = Pipeline([\n",
    "    ('tfidf', vectorizer),\n",
    "    ('lda', lda)\n",
    "])\n",
    "\n",
    "# take second element for sort\n",
    "def takeSecond(elem):\n",
    "    return elem[1]"
   ]
  },
  {
   "cell_type": "code",
   "execution_count": 17,
   "metadata": {},
   "outputs": [],
   "source": [
    "def predict_best_topics_processed_string(string):\n",
    "    t = pipe.transform([string])\n",
    "    rev_topics = np.where(t>0.01)[1]\n",
    "    rev_topics_score = t[0][rev_topics]\n",
    "\n",
    "    rev_topscore = list(zip(rev_topics,rev_topics_score))\n",
    "    rev_topscore.sort(key = takeSecond, reverse = True)\n",
    "    return rev_topscore\n",
    "\n",
    "def predict_best_topics_doc(df,did):\n",
    "    string = df['transcript'].iloc[did]\n",
    "    \n",
    "    return predict_best_topics_processed_string(string)"
   ]
  },
  {
   "cell_type": "code",
   "execution_count": 18,
   "metadata": {},
   "outputs": [],
   "source": [
    "def show_best_topics_doc(did):\n",
    "\n",
    "    print('For document #'+str(did)+'...')\n",
    "\n",
    "    rev_topscore = predict_best_topics_doc(did)\n",
    "    \n",
    "    print('\\nAll relevant topics (in order of descending relevance): \\n')\n",
    "    for top in range(len(rev_topscore)):\n",
    "        print(t_words[rev_topscore[top][0]])\n",
    "\n",
    "    print('\\nTranscript:\\n',df['transcript'].iloc[document_id][:500],'...')\n",
    "    print('\\nTrue tags from ted_main.csv: \\n',df['tags'].iloc[document_id])\n",
    "    \n",
    "def show_best_topics_string(string):\n",
    "    rev_topscore = predict_best_topics_processed_string(string)\n",
    "    \n",
    "    print('\\nAll relevant topics (in order of descending relevance): \\n')\n",
    "    for top in range(len(rev_topscore)):\n",
    "        print(t_words[rev_topscore[top][0]])"
   ]
  },
  {
   "cell_type": "code",
   "execution_count": 19,
   "metadata": {
    "scrolled": true
   },
   "outputs": [],
   "source": [
    "def predict_tags(rev_topscore, threshold):\n",
    "    relevant_topics = rev_topscore\n",
    "    if relevant_topics == []:\n",
    "        print('No relevant topics, unable to predict tags')\n",
    "        return\n",
    "\n",
    "    all_word_score = []\n",
    "    for top in range(len(relevant_topics)):\n",
    "        topic = t_words[rev_topscore[top][0]]\n",
    "        score = rev_topscore[top][1]\n",
    "        weights = word_strengths[rev_topscore[top][0]]\n",
    "        combined_score = [0]*len(weights)\n",
    "        for i in range(len(weights)):\n",
    "            combined_score[i]= weights[i]*score\n",
    "        word_score = list(zip(topic,combined_score))\n",
    "        all_word_score += word_score\n",
    "    all_word_score.sort(key = takeSecond, reverse = True)\n",
    "    \n",
    "    final_tags = []\n",
    "    for pair in all_word_score:\n",
    "        if pair[1] > threshold:\n",
    "            final_tags.append(pair[0])\n",
    "    return final_tags"
   ]
  },
  {
   "cell_type": "code",
   "execution_count": 20,
   "metadata": {},
   "outputs": [],
   "source": [
    "def predict_accuracy(df):\n",
    "    correct = 0\n",
    "    total = len(df.index)\n",
    "#     total = 1\n",
    "    all_tags = []\n",
    "    tag_count = 0\n",
    "    threshold = 0\n",
    "    taggable = 0\n",
    "    empty = 0\n",
    "#     print(squash_list)\n",
    "#     print('should have printed')\n",
    "    for tr in range(total):\n",
    "        if tr%100 == 0:\n",
    "            print(tr)\n",
    "        tagged = False\n",
    "        predicted_tags = predict_tags(predict_best_topics_doc(df,tr),threshold)\n",
    "        given_tags = df['tags'][tr]\n",
    "#         print(given_tags)\n",
    "        squash = []\n",
    "        for label in given_tags:\n",
    "#             print(label)\n",
    "            if label in squash_list:\n",
    "#                 print(label)\n",
    "                squash.append(label)\n",
    "                tag_count += 1\n",
    "                if label not in all_tags:\n",
    "                    all_tags.append(label)\n",
    "        left = False\n",
    "        for squish in squash_list:\n",
    "            if squish in given_tags:\n",
    "                left = True\n",
    "                    \n",
    "        if predicted_tags != None:\n",
    "            for word in predicted_tags:\n",
    "                if word in squash:\n",
    "                    tagged = True\n",
    "                    correct += 1\n",
    "        if tagged:\n",
    "            taggable += 1\n",
    "        \n",
    "        if not left:\n",
    "            empty += 1\n",
    "            \n",
    "    print(all_tags.sort() == squash_list.sort())\n",
    "    print('Taggable:', taggable)\n",
    "    print('Tag count:', tag_count)\n",
    "    print('Percentage tagged:',taggable/total)\n",
    "    percentage_correct_tag_count = (correct/tag_count)\n",
    "    print('Percentage correct (tag_count):',percentage_correct_tag_count)\n"
   ]
  },
  {
   "cell_type": "code",
   "execution_count": 21,
   "metadata": {},
   "outputs": [],
   "source": [
    "def predict_tags_input(threshold):\n",
    "    string = input()\n",
    "    predicted = predict_tags(predict_best_topics_processed_string(string),threshold)\n",
    "    print(predicted)"
   ]
  },
  {
   "cell_type": "code",
   "execution_count": 22,
   "metadata": {},
   "outputs": [
    {
     "name": "stdin",
     "output_type": "stream",
     "text": [
      "  0:00 As New Yorkers, we're often busy looking up at the development going on around us. We rarely stop to consider what lies beneath the city streets. And it's really hard to imagine that this small island village would one day become a forest of skyscrapers. Yet, as an urban archaeologist, that's exactly what I do. I consider landscapes, artifacts to tell the stories of the people who walked these streets before us. Because history is so much more than facts and figures. When people think of archaeology, they usually think of dusty old maps, far off lands, ancient civilizations. You don't think New York City and construction sites. Yet, that's where all the action happens and we're never sure exactly what we're going to find beneath the city streets. Like this wooden well ring which was the base for the construction of a water well. It provided us an opportunity to take a sample of the wood for tree-ring dating, and get a date to confirm the fact that we had indeed found a series of 18th-century structures beneath Fulton Street. Archaeology is about everyday people using everyday objects, like the child who may have played with this small toy, or the person who consumed the contents of this bottle. This bottle contained water imported from Germany and dates to 1790. Now okay, we know New Yorkers always had to go to great lengths to get fresh drinking water. Small island, you really couldn't drink the well water, it was to brackish. But the notion that New Yorkers were importing bottled water from Europe, more then two hundred years ago, is truly a testament to the fact that New York City is a cosmopolitan city, always has been, where you could get practically anything from anywhere. If you and I were to walk through City Hall Park, you might see an urban park and government offices. I see New York City's largest and most complex archaeological site. And it's significant not because it's City Hall, but because of the thousands of poor prisoners and British soldiers who lived and died here. Before it was City Hall Park, the area was known as The Common, and it was pretty far outside the city limits. In the 17th century, it was a place for public protests and execution.    0:00 And its remote location made it an ideal spot for the city to construct its first poor house. And it's from that period, circa 1735, that we find these bone buttons. These were made by poor persons in the almshouse. Poor persons in the almshouse were assigned various tasks to earn their keep, among them, shredding old rope for reuse, dressing hemp, picking oakum, making bone buttons, in the thought that hard work would reform these poor persons into productive members of society. The almshouse served several groups: poor needy persons, sturdy beggars, idle wandering vagabonds. And reasons to be admitted? Insanity, pregnancy, or being a widow or an orphan who could no longer pay their way.  Which makes this piece all the more interesting. This child's plate was found within the walls of the Bridewell. The Bridewell was one of the most feared and notorious prisons of its time, and it happened to have been right next door to the almshouse. In fact, there were prisons on either side of the almshouse, and at times, these institutions were so overcrowded. Prisoners and poor persons were sharing the same spaces. And while there is a lot of clamor about how can you expose children to hardened criminals, let's not forget that children as young as twelve were convicted to the Bridewell for stealing bread. What all this gives us is an insight into life in the 18th century, what it was like to be poor in the 18th century, perhaps being segregated from a portion of society, perhaps being assigned tasks to earn their keep. It was a time when three-fifths of New York City's population were living at or near the subsistence level, if not below. And 10% of the population owned more than half of the city's wealth. The past has a lot to teach us about our present and our future. I'm a firm believer that in order to have a sustainable future, we must have a well-understood past. Archaeology affords us New Yorkers and pretty much anyone in an urban center the opportunity to incorporate the knowledge of our past into our present-day dialogues, into the dialogues about our futures, incorporate the information into our shared spaces, and hopefully, it can bring all of our diverse communities within New York City, again, within any city closer together. And if I can get just one person to think a little bit differently about what they see when they walk down the city streets, or through an urban park, then I've done my job of sharing the past. Thank you. (Applause) \n"
     ]
    },
    {
     "name": "stdout",
     "output_type": "stream",
     "text": [
      "\n",
      "All relevant topics (in order of descending relevance): \n",
      "\n",
      "['city', 'brain', 'data', 'community', 'company']\n",
      "['water', 'cell', 'planet', 'energy', 'earth']\n",
      "['prison', 'gay', 'kenya', 'jail', 'terrorist']\n",
      "['oxytocin', 'heh', 'derek', 'rw', 'worthy']\n",
      "['rb', 'mockingbird', 'mammoth', 'neurogenesis', 'pollinator']\n"
     ]
    }
   ],
   "source": [
    "your_input = input()\n",
    "show_best_topics_string(your_input)"
   ]
  },
  {
   "cell_type": "code",
   "execution_count": null,
   "metadata": {},
   "outputs": [],
   "source": []
  },
  {
   "cell_type": "code",
   "execution_count": null,
   "metadata": {},
   "outputs": [],
   "source": []
  }
 ],
 "metadata": {
  "kernelspec": {
   "display_name": "Python 3",
   "language": "python",
   "name": "python3"
  },
  "language_info": {
   "codemirror_mode": {
    "name": "ipython",
    "version": 3
   },
   "file_extension": ".py",
   "mimetype": "text/x-python",
   "name": "python",
   "nbconvert_exporter": "python",
   "pygments_lexer": "ipython3",
   "version": "3.7.5"
  }
 },
 "nbformat": 4,
 "nbformat_minor": 4
}
