{
 "cells": [
  {
   "cell_type": "code",
   "execution_count": null,
   "metadata": {},
   "outputs": [],
   "source": [
    "import numpy as np \n",
    "import pandas as pd \n",
    "import matplotlib.pyplot as plt\n",
    "import seaborn as sns\n",
    "from time import time"
   ]
  },
  {
   "cell_type": "code",
   "execution_count": null,
   "metadata": {},
   "outputs": [],
   "source": [
    "INPUT_DATA_DIR = '../../data/processed/'\n",
    "INPUT_FILE_NAME = 'squashed_processed_data.pkl'"
   ]
  },
  {
   "cell_type": "code",
   "execution_count": null,
   "metadata": {},
   "outputs": [],
   "source": [
    "df = pd.read_pickle(INPUT_DATA_DIR + INPUT_FILE_NAME)\n",
    "df.head()"
   ]
  },
  {
   "cell_type": "code",
   "execution_count": null,
   "metadata": {},
   "outputs": [],
   "source": [
    "from sklearn.feature_extraction.text import TfidfVectorizer\n",
    "vectorizer = TfidfVectorizer(stop_words=\"english\",\n",
    "                        use_idf=True,\n",
    "                        ngram_range=(1,1), # considering only 1-grams\n",
    "#                         min_df = 0.05,     # cut words present in less than 5% of documents\n",
    "                        max_df = 0.3)      # cut words present in more than 30% of documents \n",
    "t0 = time()\n",
    "\n",
    "tfidf = vectorizer.fit_transform(df['transcript'])\n",
    "print(\"done in %0.3fs.\" % (time() - t0))"
   ]
  },
  {
   "cell_type": "code",
   "execution_count": null,
   "metadata": {},
   "outputs": [],
   "source": [
    "from sklearn.decomposition import LatentDirichletAllocation\n",
    "\n",
    "n_topics = 30\n",
    "lda = LatentDirichletAllocation(n_components=n_topics,random_state=0)\n",
    "\n",
    "topics = lda.fit_transform(tfidf)\n",
    "top_n_words = 5\n",
    "t_words, word_strengths = {}, {}\n",
    "for t_id, t in enumerate(lda.components_):\n",
    "    t_words[t_id] = [vectorizer.get_feature_names()[i] for i in t.argsort()[:-top_n_words - 1:-1]]\n",
    "    word_strengths[t_id] = t[t.argsort()[:-top_n_words - 1:-1]]\n",
    "t_words"
   ]
  },
  {
   "cell_type": "code",
   "execution_count": null,
   "metadata": {},
   "outputs": [],
   "source": [
    "fig, ax = plt.subplots(figsize=(7,15), ncols=2, nrows=5)\n",
    "plt.subplots_adjust(\n",
    "    wspace  =  0.5,\n",
    "    hspace  =  0.5\n",
    ")\n",
    "c=0\n",
    "for row in range(0,5):\n",
    "    for col in range(0,2):\n",
    "        sns.barplot(x=word_strengths[c], y=t_words[c], color=\"red\", ax=ax[row][col])\n",
    "        c+=1\n",
    "plt.show()"
   ]
  },
  {
   "cell_type": "code",
   "execution_count": null,
   "metadata": {},
   "outputs": [],
   "source": [
    "# Formulating a pipeline to insert a document and extract the topics pertinency\n",
    "from sklearn.pipeline import Pipeline\n",
    "pipe = Pipeline([\n",
    "    ('tfidf', vectorizer),\n",
    "    ('lda', lda)\n",
    "])\n",
    "\n",
    "# take second element for sort\n",
    "def takeSecond(elem):\n",
    "    return elem[1]"
   ]
  },
  {
   "cell_type": "code",
   "execution_count": null,
   "metadata": {},
   "outputs": [],
   "source": [
    "def predict_best_topics_processed_string(string):\n",
    "    t = pipe.transform([string])\n",
    "    rev_topics = np.where(t>0.01)[1]\n",
    "    rev_topics_score = t[0][rev_topics]\n",
    "\n",
    "    rev_topscore = list(zip(rev_topics,rev_topics_score))\n",
    "    rev_topscore.sort(key = takeSecond, reverse = True)\n",
    "    return rev_topscore\n",
    "\n",
    "def predict_best_topics_doc(df,did):\n",
    "    string = df['transcript'].iloc[did]\n",
    "    \n",
    "    return predict_best_topics_processed_string(string)"
   ]
  },
  {
   "cell_type": "code",
   "execution_count": null,
   "metadata": {},
   "outputs": [],
   "source": [
    "def show_best_topics_doc(did):\n",
    "\n",
    "    print('For document #'+str(did)+'...')\n",
    "\n",
    "    rev_topscore = predict_best_topics_doc(did)\n",
    "    \n",
    "    print('\\nAll relevant topics (in order of descending relevance): \\n')\n",
    "    for top in range(len(rev_topscore)):\n",
    "        print(t_words[rev_topscore[top][0]])\n",
    "\n",
    "    print('\\nTranscript:\\n',df['transcript'].iloc[document_id][:500],'...')\n",
    "    print('\\nTrue tags from ted_main.csv: \\n',df['tags'].iloc[document_id])\n",
    "    \n",
    "def show_best_topics_string(string):\n",
    "    rev_topscore = predict_best_topics_processed_string(string)\n",
    "    \n",
    "    print('\\nAll relevant topics (in order of descending relevance): \\n')\n",
    "    for top in range(len(rev_topscore)):\n",
    "        print(t_words[rev_topscore[top][0]])"
   ]
  },
  {
   "cell_type": "code",
   "execution_count": null,
   "metadata": {
    "scrolled": true
   },
   "outputs": [],
   "source": [
    "def predict_tags(rev_topscore, threshold):\n",
    "    relevant_topics = rev_topscore\n",
    "    if relevant_topics == []:\n",
    "        print('No relevant topics, unable to predict tags')\n",
    "        return\n",
    "\n",
    "    all_word_score = []\n",
    "    for top in range(len(relevant_topics)):\n",
    "        topic = t_words[rev_topscore[top][0]]\n",
    "        score = rev_topscore[top][1]\n",
    "        weights = word_strengths[rev_topscore[top][0]]\n",
    "        combined_score = [0]*len(weights)\n",
    "        for i in range(len(weights)):\n",
    "            combined_score[i]= weights[i]*score\n",
    "        word_score = list(zip(topic,combined_score))\n",
    "        all_word_score += word_score\n",
    "    all_word_score.sort(key = takeSecond, reverse = True)\n",
    "    \n",
    "    final_tags = []\n",
    "    for pair in all_word_score:\n",
    "        if pair[1] > threshold:\n",
    "            final_tags.append(pair[0])\n",
    "    return final_tags"
   ]
  },
  {
   "cell_type": "code",
   "execution_count": null,
   "metadata": {},
   "outputs": [],
   "source": [
    "def predict_accuracy(df):\n",
    "    correct = 0\n",
    "    total = len(df.index)\n",
    "#     total = 1\n",
    "    all_tags = []\n",
    "    tag_count = 0\n",
    "    threshold = 0\n",
    "    taggable = 0\n",
    "    empty = 0\n",
    "#     print(squash_list)\n",
    "#     print('should have printed')\n",
    "    for tr in range(total):\n",
    "        if tr%100 == 0:\n",
    "            print(tr)\n",
    "        tagged = False\n",
    "        predicted_tags = predict_tags(predict_best_topics_doc(df,tr),threshold)\n",
    "        given_tags = df['tags'][tr]\n",
    "#         print(given_tags)\n",
    "        squash = []\n",
    "        for label in given_tags:\n",
    "#             print(label)\n",
    "            if label in squash_list:\n",
    "#                 print(label)\n",
    "                squash.append(label)\n",
    "                tag_count += 1\n",
    "                if label not in all_tags:\n",
    "                    all_tags.append(label)\n",
    "        left = False\n",
    "        for squish in squash_list:\n",
    "            if squish in given_tags:\n",
    "                left = True\n",
    "                    \n",
    "        if predicted_tags != None:\n",
    "            for word in predicted_tags:\n",
    "                if word in squash:\n",
    "                    tagged = True\n",
    "                    correct += 1\n",
    "        if tagged:\n",
    "            taggable += 1\n",
    "        \n",
    "        if not left:\n",
    "            empty += 1\n",
    "            \n",
    "    print(all_tags.sort() == squash_list.sort())\n",
    "    print('Taggable:', taggable)\n",
    "    print('Tag count:', tag_count)\n",
    "    print('Percentage tagged:',taggable/total)\n",
    "    percentage_correct_tag_count = (correct/tag_count)\n",
    "    print('Percentage correct (tag_count):',percentage_correct_tag_count)\n"
   ]
  },
  {
   "cell_type": "code",
   "execution_count": null,
   "metadata": {},
   "outputs": [],
   "source": [
    "def predict_tags_input(threshold):\n",
    "    string = input()\n",
    "    predicted = predict_tags(predict_best_topics_processed_string(string),threshold)\n",
    "    print(predicted)"
   ]
  },
  {
   "cell_type": "code",
   "execution_count": null,
   "metadata": {},
   "outputs": [],
   "source": [
    "your_input = input()\n",
    "show_best_topics_string(your_input)"
   ]
  },
  {
   "cell_type": "code",
   "execution_count": null,
   "metadata": {},
   "outputs": [],
   "source": []
  },
  {
   "cell_type": "code",
   "execution_count": null,
   "metadata": {},
   "outputs": [],
   "source": []
  }
 ],
 "metadata": {
  "kernelspec": {
   "display_name": "Python 3",
   "language": "python",
   "name": "python3"
  },
  "language_info": {
   "codemirror_mode": {
    "name": "ipython",
    "version": 3
   },
   "file_extension": ".py",
   "mimetype": "text/x-python",
   "name": "python",
   "nbconvert_exporter": "python",
   "pygments_lexer": "ipython3",
   "version": "3.7.1"
  }
 },
 "nbformat": 4,
 "nbformat_minor": 4
}
