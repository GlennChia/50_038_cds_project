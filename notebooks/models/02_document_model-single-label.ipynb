{
 "cells": [
  {
   "cell_type": "markdown",
   "metadata": {},
   "source": [
    "# 1. References\n",
    "\n",
    "Title: Title Machine Learning, NLP: Text Classification using scikit-learn, python and NLTK.\n",
    "\n",
    "Link: https://towardsdatascience.com/machine-learning-nlp-text-classification-using-scikit-learn-python-and-nltk-c52b92a7c73a\n"
   ]
  },
  {
   "cell_type": "markdown",
   "metadata": {},
   "source": [
    "# 2. Imports"
   ]
  },
  {
   "cell_type": "code",
   "execution_count": 1,
   "metadata": {},
   "outputs": [],
   "source": [
    "from sklearn.feature_extraction.text import CountVectorizer\n",
    "from sklearn.naive_bayes import MultinomialNB\n",
    "import numpy as np\n",
    "import pandas as pd\n",
    "from sklearn.feature_extraction.text import TfidfTransformer\n",
    "from sklearn.linear_model import SGDClassifier\n",
    "from sklearn.model_selection import GridSearchCV\n",
    "from sklearn.pipeline import Pipeline\n",
    "import nltk\n",
    "# nltk.download()\n",
    "from nltk.stem.snowball import SnowballStemmer"
   ]
  },
  {
   "cell_type": "markdown",
   "metadata": {},
   "source": [
    "# 3. Data cleaning"
   ]
  },
  {
   "cell_type": "code",
   "execution_count": 2,
   "metadata": {},
   "outputs": [],
   "source": [
    "DATA_DIR = \"../../data/raw/\"\n",
    "INPUT_FILE_NAME = 'subset_raw.parquet'"
   ]
  },
  {
   "cell_type": "code",
   "execution_count": 3,
   "metadata": {},
   "outputs": [
    {
     "data": {
      "text/html": [
       "<div>\n",
       "<style scoped>\n",
       "    .dataframe tbody tr th:only-of-type {\n",
       "        vertical-align: middle;\n",
       "    }\n",
       "\n",
       "    .dataframe tbody tr th {\n",
       "        vertical-align: top;\n",
       "    }\n",
       "\n",
       "    .dataframe thead th {\n",
       "        text-align: right;\n",
       "    }\n",
       "</style>\n",
       "<table border=\"1\" class=\"dataframe\">\n",
       "  <thead>\n",
       "    <tr style=\"text-align: right;\">\n",
       "      <th></th>\n",
       "      <th>speaker</th>\n",
       "      <th>headline</th>\n",
       "      <th>description</th>\n",
       "      <th>duration</th>\n",
       "      <th>tags</th>\n",
       "      <th>transcript</th>\n",
       "      <th>WC</th>\n",
       "    </tr>\n",
       "    <tr>\n",
       "      <th>id</th>\n",
       "      <th></th>\n",
       "      <th></th>\n",
       "      <th></th>\n",
       "      <th></th>\n",
       "      <th></th>\n",
       "      <th></th>\n",
       "      <th></th>\n",
       "    </tr>\n",
       "  </thead>\n",
       "  <tbody>\n",
       "    <tr>\n",
       "      <th>1</th>\n",
       "      <td>Al Gore</td>\n",
       "      <td>Averting the climate crisis</td>\n",
       "      <td>With the same humor and humanity he exuded in ...</td>\n",
       "      <td>0:16:17</td>\n",
       "      <td>cars,alternative energy,culture,politics,scien...</td>\n",
       "      <td>0:14\\r\\r\\rThank you so much, Chris.\\rAnd it's ...</td>\n",
       "      <td>2281.0</td>\n",
       "    </tr>\n",
       "    <tr>\n",
       "      <th>2</th>\n",
       "      <td>Amy Smith</td>\n",
       "      <td>Simple designs to save a life</td>\n",
       "      <td>Fumes from indoor cooking fires kill more than...</td>\n",
       "      <td>0:15:06</td>\n",
       "      <td>MacArthur grant,simplicity,industrial design,a...</td>\n",
       "      <td>0:11\\r\\r\\rIn terms of invention,\\rI'd like to ...</td>\n",
       "      <td>2687.0</td>\n",
       "    </tr>\n",
       "    <tr>\n",
       "      <th>3</th>\n",
       "      <td>Ashraf Ghani</td>\n",
       "      <td>How to rebuild a broken state</td>\n",
       "      <td>Ashraf Ghani's passionate and powerful 10-minu...</td>\n",
       "      <td>0:18:45</td>\n",
       "      <td>corruption,poverty,economics,investment,milita...</td>\n",
       "      <td>0:12\\r\\r\\rA public, Dewey long ago observed,\\r...</td>\n",
       "      <td>2506.0</td>\n",
       "    </tr>\n",
       "    <tr>\n",
       "      <th>4</th>\n",
       "      <td>Burt Rutan</td>\n",
       "      <td>The real future of space exploration</td>\n",
       "      <td>In this passionate talk, legendary spacecraft ...</td>\n",
       "      <td>0:19:37</td>\n",
       "      <td>aircraft,flight,industrial design,NASA,rocket ...</td>\n",
       "      <td>0:11\\r\\r\\rI want to start off by saying, Houst...</td>\n",
       "      <td>3092.0</td>\n",
       "    </tr>\n",
       "    <tr>\n",
       "      <th>5</th>\n",
       "      <td>Chris Bangle</td>\n",
       "      <td>Great cars are great art</td>\n",
       "      <td>American designer Chris Bangle explains his ph...</td>\n",
       "      <td>0:20:04</td>\n",
       "      <td>cars,industrial design,transportation,inventio...</td>\n",
       "      <td>0:12\\r\\r\\rWhat I want to talk about is, as bac...</td>\n",
       "      <td>3781.0</td>\n",
       "    </tr>\n",
       "  </tbody>\n",
       "</table>\n",
       "</div>"
      ],
      "text/plain": [
       "         speaker                              headline  \\\n",
       "id                                                       \n",
       "1        Al Gore           Averting the climate crisis   \n",
       "2      Amy Smith         Simple designs to save a life   \n",
       "3   Ashraf Ghani         How to rebuild a broken state   \n",
       "4     Burt Rutan  The real future of space exploration   \n",
       "5   Chris Bangle              Great cars are great art   \n",
       "\n",
       "                                          description duration  \\\n",
       "id                                                               \n",
       "1   With the same humor and humanity he exuded in ...  0:16:17   \n",
       "2   Fumes from indoor cooking fires kill more than...  0:15:06   \n",
       "3   Ashraf Ghani's passionate and powerful 10-minu...  0:18:45   \n",
       "4   In this passionate talk, legendary spacecraft ...  0:19:37   \n",
       "5   American designer Chris Bangle explains his ph...  0:20:04   \n",
       "\n",
       "                                                 tags  \\\n",
       "id                                                      \n",
       "1   cars,alternative energy,culture,politics,scien...   \n",
       "2   MacArthur grant,simplicity,industrial design,a...   \n",
       "3   corruption,poverty,economics,investment,milita...   \n",
       "4   aircraft,flight,industrial design,NASA,rocket ...   \n",
       "5   cars,industrial design,transportation,inventio...   \n",
       "\n",
       "                                           transcript      WC  \n",
       "id                                                             \n",
       "1   0:14\\r\\r\\rThank you so much, Chris.\\rAnd it's ...  2281.0  \n",
       "2   0:11\\r\\r\\rIn terms of invention,\\rI'd like to ...  2687.0  \n",
       "3   0:12\\r\\r\\rA public, Dewey long ago observed,\\r...  2506.0  \n",
       "4   0:11\\r\\r\\rI want to start off by saying, Houst...  3092.0  \n",
       "5   0:12\\r\\r\\rWhat I want to talk about is, as bac...  3781.0  "
      ]
     },
     "execution_count": 3,
     "metadata": {},
     "output_type": "execute_result"
    }
   ],
   "source": [
    "df = pd.read_parquet(DATA_DIR + INPUT_FILE_NAME)\n",
    "df.head()"
   ]
  },
  {
   "cell_type": "code",
   "execution_count": 4,
   "metadata": {},
   "outputs": [
    {
     "name": "stdout",
     "output_type": "stream",
     "text": [
      "<class 'pandas.core.frame.DataFrame'>\n",
      "Int64Index: 2475 entries, 1 to 2804\n",
      "Data columns (total 7 columns):\n",
      "speaker        2475 non-null object\n",
      "headline       2475 non-null object\n",
      "description    2475 non-null object\n",
      "duration       2475 non-null object\n",
      "tags           2475 non-null object\n",
      "transcript     2386 non-null object\n",
      "WC             2386 non-null float64\n",
      "dtypes: float64(1), object(6)\n",
      "memory usage: 154.7+ KB\n"
     ]
    }
   ],
   "source": [
    "df.iloc[:,:15].info()"
   ]
  },
  {
   "cell_type": "code",
   "execution_count": 5,
   "metadata": {},
   "outputs": [
    {
     "name": "stdout",
     "output_type": "stream",
     "text": [
      "<class 'pandas.core.frame.DataFrame'>\n",
      "RangeIndex: 2386 entries, 0 to 2385\n",
      "Data columns (total 7 columns):\n",
      "speaker        2386 non-null object\n",
      "headline       2386 non-null object\n",
      "description    2386 non-null object\n",
      "duration       2386 non-null object\n",
      "tags           2386 non-null object\n",
      "transcript     2386 non-null object\n",
      "WC             2386 non-null float64\n",
      "dtypes: float64(1), object(6)\n",
      "memory usage: 130.6+ KB\n"
     ]
    }
   ],
   "source": [
    "df = df.dropna(subset=['transcript'])\n",
    "df = df.reset_index(drop=True)\n",
    "df.iloc[:,:15].info()"
   ]
  },
  {
   "cell_type": "code",
   "execution_count": 6,
   "metadata": {},
   "outputs": [
    {
     "data": {
      "text/plain": [
       "'0:14\\r\\r\\rThank you so much, Chris.\\rAnd it\\'s truly a great honor\\rto have the opportunity\\rto come to this stage twice;\\rI\\'m extremely grateful.\\rI have been blown away by this conference,\\rand I want to thank all of you\\rfor the many nice comments\\rabout what I had to say the other night.\\rAnd I say that sincerely,\\rpartly because (Mock sob)\\rI need that.\\r\\r\\r\\r\\r 0:40\\r\\r\\r(Laughter)\\r\\r\\r\\r\\r 0:45\\r\\r\\rPut yourselves in my position.\\r\\r\\r\\r\\r 0:47\\r\\r\\r(Laughter)\\r\\r\\r\\r\\r 0:54\\r\\r\\rI flew on Air Force Two for eight years.\\r\\r\\r\\r\\r 0:57\\r\\r\\r(Laughter)\\r\\r\\r\\r\\r 0:59\\r\\r\\rNow I have to take off my shoes\\ror boots to get on an airplane!\\r\\r\\r\\r\\r 1:02\\r\\r\\r(Laughter)\\r\\r\\r\\r\\r 1:05\\r\\r\\r(Applause)\\r\\r\\r\\r\\r 1:11\\r\\r\\rI\\'ll tell you one quick story\\rto illustrate what\\rthat\\'s been like for me.\\r\\r\\r\\r\\r 1:16\\r\\r\\r(Laughter)\\r\\r\\r\\r\\r 1:18\\r\\r\\rIt\\'s a true story \\revery bit of this is true.\\r\\r\\r\\r\\r 1:21\\r\\r\\rSoon after Tipper and I left the \\r(Mock sob) White House \\r\\r\\r\\r\\r 1:24\\r\\r\\r(Laughter)\\r\\r\\r\\r\\r 1:26\\r\\r\\rwe were driving from our home\\rin Nashville to a little farm we have\\r50 miles east of Nashville.\\rDriving ourselves.\\r\\r\\r\\r\\r 1:36\\r\\r\\r(Laughter)\\r\\r\\r\\r\\r 1:39\\r\\r\\rI know it sounds like\\ra little thing to you, but \\r\\r\\r\\r\\r 1:41\\r\\r\\r(Laughter)\\r\\r\\r\\r\\r 1:47\\r\\r\\rI looked in the rear-view mirror\\rand all of a sudden it just hit me.\\rThere was no motorcade back there.\\r\\r\\r\\r\\r 1:57\\r\\r\\r(Laughter)\\r\\r\\r\\r\\r 2:00\\r\\r\\rYou\\'ve heard of phantom limb pain?\\r\\r\\r\\r\\r 2:02\\r\\r\\r(Laughter)\\r\\r\\r\\r\\r 2:07\\r\\r\\rThis was a rented Ford Taurus.\\r\\r\\r\\r\\r 2:11\\r\\r\\r(Laughter)\\r\\r\\r\\r\\r 2:14\\r\\r\\rIt was dinnertime,\\rand we started looking for a place to eat.\\rWe were on I-40.\\rWe got to Exit 238, Lebanon, Tennessee.\\rWe got off the exit,\\rwe found a Shoney\\'s restaurant.\\rLow-cost family restaurant chain,\\rfor those of you who don\\'t know it.\\rWe went in and sat down at the booth,\\rand the waitress came over,\\rmade a big commotion over Tipper.\\r\\r\\r\\r\\r 2:39\\r\\r\\r(Laughter)\\r\\r\\r\\r\\r 2:41\\r\\r\\rShe took our order, and then went\\rto the couple in the booth next to us,\\rand she lowered her voice so much,\\rI had to really strain to hear\\rwhat she was saying.\\rAnd she said \"Yes, that\\'s former\\rVice President Al Gore\\rand his wife, Tipper.\"\\rAnd the man said,\\r\"He\\'s come down a long way, hasn\\'t he?\"\\r\\r\\r\\r\\r 2:58\\r\\r\\r(Laughter)\\r\\r\\r\\r\\r 3:03\\r\\r\\r(Applause)\\r\\r\\r\\r\\r 3:08\\r\\r\\rThere\\'s been kind\\rof a series of epiphanies.\\r\\r\\r\\r\\r 3:11\\r\\r\\r(Laughter)\\r\\r\\r\\r\\r 3:12\\r\\r\\rThe very next day,\\rcontinuing the totally true story,\\rI got on a G-V to fly to Africa\\rto make a speech in Nigeria,\\rin the city of Lagos,\\ron the topic of energy.\\rAnd I began the speech\\rby telling them the story\\rof what had just happened\\rthe day before in Nashville.\\rAnd I told it pretty much the same way\\rI\\'ve just shared it with you:\\rTipper and I were driving ourselves,\\rShoney\\'s, low-cost\\rfamily restaurant chain,\\rwhat the man said  they laughed.\\rI gave my speech, then went back\\rout to the airport to fly back home.\\rI fell asleep on the plane\\runtil, during the middle\\rof the night, we landed\\ron the Azores Islands for refueling.\\rI woke up, they opened the door,\\rI went out to get some fresh air,\\rand I looked, and there was a man\\rrunning across the runway.\\rAnd he was waving a piece\\rof paper, and he was yelling,\\r\"Call Washington! Call Washington!\"\\rAnd I thought to myself,\\rin the middle of the night,\\rin the middle of the Atlantic,\\rwhat in the world could be\\rwrong in Washington?\\rThen I remembered\\rit could be a bunch of things.\\r\\r\\r\\r\\r 4:15\\r\\r\\r(Laughter)\\r\\r\\r\\r\\r 4:21\\r\\r\\rBut what it turned out to be,\\rwas that my staff was extremely upset\\rbecause one of the wire services\\rin Nigeria had already written a story\\rabout my speech,\\rand it had already been printed in cities\\rall across the United States of America.\\rIt was printed in Monterey, I checked.\\r\\r\\r\\r\\r 4:40\\r\\r\\r(Laughter)\\r\\r\\r\\r\\r 4:41\\r\\r\\rAnd the story began,\\r\"Former Vice President Al Gore\\rannounced in Nigeria yesterday,\" quote:\\r\\'My wife Tipper and I have opened\\ra low-cost family restaurant\\'\" \\r\\r\\r\\r\\r 4:52\\r\\r\\r(Laughter)\\r\\r\\r\\r\\r 4:53\\r\\r\\r\"\\'named Shoney\\'s,\\rand we are running it ourselves.\\'\"\\r\\r\\r\\r\\r 4:57\\r\\r\\r(Laughter)\\r\\r\\r\\r\\r 5:00\\r\\r\\rBefore I could get back to U.S. soil,\\rDavid Letterman and Jay Leno\\rhad already started in on \\rone of them had me\\rin a big white chef\\'s hat,\\rTipper was saying,\\r\"One more burger with fries!\"\\r\\r\\r\\r\\r 5:12\\r\\r\\r(Laughter)\\r\\r\\r\\r\\r 5:13\\r\\r\\rThree days later,\\rI got a nice, long, handwritten letter\\rfrom my friend and partner\\rand colleague Bill Clinton, saying,\\r\"Congratulations\\ron the new restaurant, Al!\"\\r\\r\\r\\r\\r 5:23\\r\\r\\r(Laughter)\\r\\r\\r\\r\\r 5:30\\r\\r\\rWe like to celebrate\\reach other\\'s successes in life.\\r\\r\\r\\r\\r 5:33\\r\\r\\r(Laughter)\\r\\r\\r\\r\\r 5:39\\r\\r\\rI was going to talk\\rabout information ecology.\\rBut I was thinking that,\\rsince I plan to make a lifelong habit\\rof coming back to TED,\\rthat maybe I could talk\\rabout that another time.\\r\\r\\r\\r\\r 5:50\\r\\r\\r(Applause)\\r\\r\\r\\r\\r 5:52\\r\\r\\rChris Anderson: It\\'s a deal!\\r\\r\\r\\r\\r 5:53\\r\\r\\r(Applause)\\r\\r\\r\\r\\r 5:56\\r\\r\\rAl Gore: I want to focus\\ron what many of you have said\\ryou would like me to elaborate on:\\rWhat can you do about the climate crisis?\\rI want to start with a couple of \\rI\\'m going to show some new images,\\rand I\\'m going to recapitulate\\rjust four or five.\\rNow, the slide show.\\rI update the slide show\\revery time I give it.\\rI add new images,\\rbecause I learn more about it\\revery time I give it.\\rIt\\'s like beach-combing, you know?\\rEvery time the tide comes in and out,\\ryou find some more shells.\\rJust in the last two days, we got\\rthe new temperature records in January.\\rThis is just for\\rthe United States of America.\\rHistorical average\\rfor Januarys is 31 degrees;\\rlast month was 39.5 degrees.\\r\\r\\r\\r\\r 6:49\\r\\r\\rNow, I know that you wanted some more\\rbad news about the environment \\rI\\'m kidding.\\rBut these are the recapitulation slides,\\rand then I\\'m going to go into new\\rmaterial about what you can do.\\rBut I wanted to elaborate\\ron a couple of these.\\rFirst of all, this is where\\rwe\\'re projected to go\\rwith the U.S. contribution\\rto global warming,\\runder business as usual.\\rEfficiency in end-use electricity\\rand end-use of all energy\\ris the low-hanging fruit.\\rEfficiency and conservation \\rit\\'s not a cost; it\\'s a profit.\\rThe sign is wrong.\\rIt\\'s not negative; it\\'s positive.\\rThese are investments\\rthat pay for themselves.\\rBut they are also very effective\\rin deflecting our path.\\r\\r\\r\\r\\r 7:36\\r\\r\\rCars and trucks  I talked\\rabout that in the slideshow,\\rbut I want you to put it in perspective.\\rIt\\'s an easy, visible target of concern \\rand it should be \\rbut there is more global warming pollution\\rthat comes from buildings\\rthan from cars and trucks.\\rCars and trucks are very significant,\\rand we have the lowest\\rstandards in the world.\\rAnd so we should address that.\\rBut it\\'s part of the puzzle.\\rOther transportation efficiency\\ris as important as cars and trucks.\\rRenewables at the current levels\\rof technological efficiency\\rcan make this much difference.\\rAnd with what Vinod, and John Doerr\\rand others, many of you here \\rthere are a lot of people\\rdirectly involved in this \\rthis wedge is going to grow\\rmuch more rapidly\\rthan the current projection shows it.\\rCarbon Capture and Sequestration \\rthat\\'s what CCS stands for \\ris likely to become the killer app\\rthat will enable us\\rto continue to use fossil fuels\\rin a way that is safe.\\rNot quite there yet.\\rOK. Now, what can you do?\\r\\r\\r\\r\\r 8:57\\r\\r\\rReduce emissions in your home.\\rMost of these expenditures\\rare also profitable.\\rInsulation, better design.\\rBuy green electricity where you can.\\rI mentioned automobiles  buy a hybrid.\\rUse light rail.\\rFigure out some of the other options\\rthat are much better.\\rIt\\'s important.\\r\\r\\r\\r\\r 9:21\\r\\r\\rBe a green consumer.\\rYou have choices with everything you buy,\\rbetween things that have a harsh effect,\\ror a much less harsh effect\\ron the global climate crisis.\\rConsider this:\\rMake a decision to live\\ra carbon-neutral life.\\rThose of you who are good at branding,\\rI\\'d love to get your advice and help\\ron how to say this in a way\\rthat connects with the most people.\\rIt is easier than you think.\\rIt really is.\\rA lot of us in here\\rhave made that decision,\\rand it is really pretty easy.\\rIt means reduce\\ryour carbon dioxide emissions\\rwith the full range\\rof choices that you make,\\rand then purchase or acquire offsets\\rfor the remainder that you have not\\rcompletely reduced.\\rAnd what it means is elaborated\\rat climatecrisis.net.\\r\\r\\r\\r\\r10:26\\r\\r\\rThere is a carbon calculator.\\rParticipant Productions convened \\rwith my active involvement \\rthe leading software writers in the world,\\ron this arcane science\\rof carbon calculation,\\rto construct a consumer-friendly\\rcarbon calculator.\\rYou can very precisely calculate\\rwhat your CO2 emissions are,\\rand then you will be given\\roptions to reduce.\\rAnd by the time the movie\\rcomes out in May,\\rthis will be updated to 2.0,\\rand we will have click-through\\rpurchases of offsets.\\r\\r\\r\\r\\r11:06\\r\\r\\rNext, consider making\\ryour business carbon-neutral.\\rAgain, some of us have done that,\\rand it\\'s not as hard as you think.\\rIntegrate climate solutions\\rinto all of your innovations,\\rwhether you are from the technology,\\ror entertainment, or design\\rand architecture community.\\rInvest sustainably.\\rMajora mentioned this.\\rListen, if you have invested money\\rwith managers who you compensate\\ron the basis of their annual performance,\\rdon\\'t ever again complain\\rabout quarterly report CEO management.\\rOver time, people do\\rwhat you pay them to do.\\rAnd if they judge how much\\rthey\\'re going to get paid\\ron your capital that they\\'ve invested,\\rbased on the short-term returns,\\ryou\\'re going to get short-term decisions.\\rA lot more to be said about that.\\r\\r\\r\\r\\r12:03\\r\\r\\rBecome a catalyst of change.\\rTeach others, learn about it,\\rtalk about it.\\rThe movie is a movie version\\rof the slideshow\\rI gave two nights ago,\\rexcept it\\'s a lot more entertaining.\\rAnd it comes out in May.\\rMany of you here have the opportunity\\rto ensure that a lot of people see it.\\rConsider sending somebody to Nashville.\\rPick well.\\rAnd I am personally going to train people\\rto give this slideshow \\rre-purposed, with some\\rof the personal stories obviously replaced\\rwith a generic approach,\\rand it\\'s not just the slides,\\rit\\'s what they mean.\\rAnd it\\'s how they link together.\\rAnd so I\\'m going to be conducting\\ra course this summer\\rfor a group of people that are\\rnominated by different folks\\rto come and then give it en masse,\\rin communities all across the country,\\rand we\\'re going to update the slideshow\\rfor all of them every single week,\\rto keep it right on the cutting edge.\\rWorking with Larry Lessig, it will be,\\rsomewhere in that process,\\rposted with tools\\rand limited-use copyrights,\\rso that young people can remix it\\rand do it in their own way.\\r\\r\\r\\r\\r13:23\\r\\r\\r(Applause)\\r\\r\\r\\r\\r13:26\\r\\r\\rWhere did anybody get the idea\\rthat you ought to stay\\rarm\\'s length from politics?\\rIt doesn\\'t mean\\rthat if you\\'re a Republican,\\rthat I\\'m trying to convince you\\rto be a Democrat.\\rWe need Republicans as well.\\rThis used to be a bipartisan issue,\\rand I know that\\rin this group it really is.\\rBecome politically active.\\rMake our democracy work the way\\rit\\'s supposed to work.\\rSupport the idea of capping\\rcarbon dioxide emissions \\rglobal warming pollution \\rand trading it.\\rHere\\'s why: as long as the United States\\ris out of the world system,\\rit\\'s not a closed system.\\rOnce it becomes a closed system,\\rwith U.S. participation,\\rthen everybody\\rwho\\'s on a board of directors \\rhow many people here\\rserve on the board of directors\\rof a corporation?\\rOnce it\\'s a closed system,\\ryou will have legal liability\\rif you do not urge your CEO\\rto get the maximum income from reducing\\rand trading the carbon emissions\\rthat can be avoided.\\rThe market will work\\rto solve this problem \\rif we can accomplish this.\\rHelp with the mass persuasion campaign\\rthat will start this spring.\\rWe have to change the minds\\rof the American people.\\rBecause presently, the politicians\\rdo not have permission\\rto do what needs to be done.\\r\\r\\r\\r\\r14:44\\r\\r\\rAnd in our modern country, the role\\rof logic and reason no longer includes\\rmediating between wealth and power\\rthe way it once did.\\rIt\\'s now repetition of short, hot-button,\\r30-second, 28-second television ads.\\rWe have to buy a lot of those ads.\\rLet\\'s re-brand global warming,\\ras many of you have suggested.\\rI like \"climate crisis\"\\rinstead of \"climate collapse,\"\\rbut again, those of you\\rwho are good at branding,\\rI need your help on this.\\rSomebody said the test\\rwe\\'re facing now, a scientist told me,\\ris whether the combination\\rof an opposable thumb\\rand a neocortex is a viable combination.\\r\\r\\r\\r\\r15:22\\r\\r\\r(Laughter)\\r\\r\\r\\r\\r15:24\\r\\r\\rThat\\'s really true.\\r\\r\\r\\r\\r15:29\\r\\r\\rI said the other night,\\rand I\\'ll repeat now:\\rthis is not a political issue.\\rAgain, the Republicans here \\rthis shouldn\\'t be partisan.\\rYou have more influence\\rthan some of us who are Democrats do.\\rThis is an opportunity.\\rNot just this, but connected\\rto the ideas that are here,\\rto bring more coherence to them.\\rWe are one.\\r\\r\\r\\r\\r15:55\\r\\r\\rThank you very much, I appreciate it.\\r\\r\\r\\r\\r15:57\\r\\r\\r(Applause)'"
      ]
     },
     "execution_count": 6,
     "metadata": {},
     "output_type": "execute_result"
    }
   ],
   "source": [
    "df['transcript'][0]"
   ]
  },
  {
   "cell_type": "code",
   "execution_count": 7,
   "metadata": {},
   "outputs": [],
   "source": [
    "'''\n",
    "1. Numbers\n",
    "2. Apostrophe\n",
    "3. All punctuations\n",
    "4. Weird symbols\n",
    "5. Stop words\n",
    "6. lemmatization\n",
    "'''\n",
    "\n",
    "import string\n",
    "from nltk.corpus import stopwords\n",
    "from nltk.tokenize import ToktokTokenizer\n",
    "from sklearn.feature_extraction import stop_words\n",
    "from nltk.stem.wordnet import WordNetLemmatizer\n",
    "sets=[stop_words.ENGLISH_STOP_WORDS]\n",
    "sklearnStopWords = [list(x) for x in sets][0]\n",
    "token=ToktokTokenizer()\n",
    "lemma=WordNetLemmatizer()\n",
    "stopWordList=stopwords.words('english')\n",
    "stopWords = stopWordList + sklearnStopWords\n",
    "stopWords = list(dict.fromkeys(stopWords))\n",
    "\n",
    "\n",
    "def stopWordsRemove(text):\n",
    "    wordList=[x.lower().strip() for x in token.tokenize(text)]\n",
    "    removedList=[x + ' ' for x in wordList if not x in stopWords]\n",
    "    text=''.join(removedList)\n",
    "    return text\n",
    "\n",
    "\n",
    "def lemitizeWords(text):\n",
    "    words=token.tokenize(text)\n",
    "    listLemma=[]\n",
    "    for w in words:\n",
    "        x=lemma.lemmatize(w,'v')\n",
    "        listLemma.append(x)\n",
    "    return text\n",
    "\n",
    "\n",
    "# There is a mispelt word that needs to be replaced\n",
    "df['transcript'] = df['transcript'].str.replace('childrn','children')\n",
    "\n",
    "df['transcript'] = df['transcript'].str.replace('\\r',' ')\n",
    "df['transcript'] = df['transcript'].str.replace(\"\\'s\",\" is\")\n",
    "df['transcript'] = df['transcript'].str.replace(\"\\'m\",\" am\")\n",
    "df['transcript'] = df['transcript'].str.replace(\"\\'ll\",\" will\")\n",
    "df['transcript'] = df['transcript'].str.replace(\"Can\\'t\",\"cannot\")\n",
    "df['transcript'] = df['transcript'].str.replace(\"Sha\\'t\",\"shall not\")\n",
    "df['transcript'] = df['transcript'].str.replace(\"Won\\'t\",\"would not\")\n",
    "df['transcript'] = df['transcript'].str.replace(\"n\\'t\",\" not\")\n",
    "df['transcript'] = df['transcript'].str.replace(\"\\'ve\",\" have\")\n",
    "df['transcript'] = df['transcript'].str.replace(\"\\'re\",\" are\")\n",
    "df['transcript'] = df['transcript'].str.replace(\"\\'d\",\" would\")\n",
    "df['transcript'] = df['transcript'].str.replace(r\"\\(([^)]+)\\)\",\"\")\n",
    "# Deal with Mr. and Dr.\n",
    "df['transcript'] = df['transcript'].str.replace(\"mr. \",\"mr\")\n",
    "df['transcript'] = df['transcript'].str.replace(\"Mr. \",\"mr\")\n",
    "df['transcript'] = df['transcript'].str.replace(\"dr. \",\"dr\")\n",
    "df['transcript'] = df['transcript'].str.replace(\"mrs. \",\"mrs\")\n",
    "df['transcript'] = df['transcript'].str.replace(\"Mrs. \",\"mrs\")\n",
    "df['transcript'] = df['transcript'].str.replace(\"Dr. \",\"dr\")\n",
    "\n",
    "df['transcript'] = df['transcript'].str.replace(r'\\d+','')\n",
    "df['transcript'] = df['transcript'].str.replace(r'<.*?>','')\n",
    "for i in string.punctuation:\n",
    "    if i == \"'\":\n",
    "        df['transcript'] = df['transcript'].str.replace(i,'')\n",
    "    else:\n",
    "        df['transcript'] = df['transcript'].str.replace(i,' ')\n",
    "df['transcript'] = df['transcript'].map(lambda com : stopWordsRemove(com))\n",
    "df['transcript'] = df['transcript'].map(lambda com : lemitizeWords(com))\n",
    "df['transcript'] = df['transcript'].str.replace('\\s+',' ')\n"
   ]
  },
  {
   "cell_type": "code",
   "execution_count": 8,
   "metadata": {
    "scrolled": true
   },
   "outputs": [
    {
     "data": {
      "text/plain": [
       "'thank chris truly great honor opportunity come stage twice extremely grateful blown away conference want thank nice comments say night say sincerely partly need position flew air force years shoes boots airplane tell quick story illustrate like true story bit true soon tipper left white house driving home nashville little farm miles east nashville driving know sounds like little thing looked rear view mirror sudden hit motorcade heard phantom limb pain rented ford taurus dinnertime started looking place eat got exit lebanon tennessee got exit shoney restaurant low cost family restaurant chain know went sat booth waitress came big commotion tipper took order went couple booth lowered voice really strain hear saying said yes vice president al gore wife tipper man said come long way kind series epiphanies day continuing totally true story got g v fly africa make speech nigeria city lagos topic energy began speech telling story happened day nashville told pretty way shared tipper driving shoney low cost family restaurant chain man said laughed gave speech went airport fly home fell asleep plane middle night landed azores islands refueling woke opened door went fresh air looked man running runway waving piece paper yelling washington washington thought middle night middle atlantic world wrong washington remembered bunch things turned staff extremely upset wire services nigeria written story speech printed cities united states america printed monterey checked story began vice president al gore announced nigeria yesterday quote wife tipper opened low cost family restaurant named shoney running u soil david letterman jay leno started big white chef hat tipper saying burger fries days later got nice long handwritten letter friend partner colleague clinton saying congratulations new restaurant al like celebrate successes life going talk information ecology thinking plan make lifelong habit coming ted maybe talk time chris anderson deal al gore want focus said like elaborate climate crisis want start couple going new images going recapitulate slide update slide time add new images learn time like beach combing know time tide comes shells days got new temperature records january united states america historical average januarys degrees month degrees know wanted bad news environment kidding recapitulation slides going new material wanted elaborate couple projected u contribution global warming business usual efficiency end use electricity end use energy low hanging fruit efficiency conservation cost profit sign wrong negative positive investments pay effective deflecting path cars trucks talked slideshow want perspective easy visible target concern global warming pollution comes buildings cars trucks cars trucks significant lowest standards world address puzzle transportation efficiency important cars trucks renewables current levels technological efficiency make difference vinod john doerr lot people directly involved wedge going grow rapidly current projection shows carbon capture sequestration ccs stands likely killer app enable continue use fossil fuels way safe quite ok reduce emissions home expenditures profitable insulation better design buy green electricity mentioned automobiles buy hybrid use light rail figure options better important green consumer choices buy things harsh effect harsh effect global climate crisis consider make decision live carbon neutral life good branding love advice help say way connects people easier think really lot decision really pretty easy means reduce carbon dioxide emissions range choices make purchase acquire offsets remainder completely reduced means elaborated climatecrisis net carbon calculator participant productions convened active involvement leading software writers world arcane science carbon calculation construct consumer friendly carbon calculator precisely calculate emissions given options reduce time movie comes updated click purchases offsets consider making business carbon neutral hard think integrate climate solutions innovations technology entertainment design architecture community invest sustainably majora mentioned listen invested money managers compensate basis annual performance complain quarterly report ceo management time people pay judge going paid capital invested based short term returns going short term decisions lot said catalyst change teach learn talk movie movie version slideshow gave nights ago lot entertaining comes opportunity ensure lot people consider sending somebody nashville pick personally going train people slideshow purposed personal stories obviously replaced generic approach slides mean link going conducting course summer group people nominated different folks come en masse communities country going update slideshow single week right cutting edge working larry lessig process posted tools limited use copyrights young people remix way anybody idea ought stay arm length politics mean republican trying convince democrat need republicans used bipartisan issue know group really politically active make democracy work way supposed work support idea capping carbon dioxide emissions global warming pollution trading long united states world closed closed u participation everybody board directors people serve board directors corporation closed legal liability urge ceo maximum income reducing trading carbon emissions avoided market work solve problem accomplish help mass persuasion campaign start spring change minds american people presently politicians permission needs modern country role logic reason longer includes mediating wealth power way repetition short hot button second second television ads buy lot ads let brand global warming suggested like climate crisis instead climate collapse good branding need help somebody said test facing scientist told combination opposable thumb neocortex viable combination really true said night repeat political issue republicans partisan influence democrats opportunity connected ideas bring coherence thank appreciate '"
      ]
     },
     "execution_count": 8,
     "metadata": {},
     "output_type": "execute_result"
    }
   ],
   "source": [
    "df['transcript'][0]"
   ]
  },
  {
   "cell_type": "markdown",
   "metadata": {},
   "source": [
    "## 3.1 Compare Tags to get a single tag"
   ]
  },
  {
   "cell_type": "code",
   "execution_count": 9,
   "metadata": {
    "scrolled": true
   },
   "outputs": [
    {
     "data": {
      "text/html": [
       "<div>\n",
       "<style scoped>\n",
       "    .dataframe tbody tr th:only-of-type {\n",
       "        vertical-align: middle;\n",
       "    }\n",
       "\n",
       "    .dataframe tbody tr th {\n",
       "        vertical-align: top;\n",
       "    }\n",
       "\n",
       "    .dataframe thead th {\n",
       "        text-align: right;\n",
       "    }\n",
       "</style>\n",
       "<table border=\"1\" class=\"dataframe\">\n",
       "  <thead>\n",
       "    <tr style=\"text-align: right;\">\n",
       "      <th></th>\n",
       "      <th>transcript</th>\n",
       "      <th>tags</th>\n",
       "    </tr>\n",
       "  </thead>\n",
       "  <tbody>\n",
       "    <tr>\n",
       "      <th>0</th>\n",
       "      <td>thank chris truly great honor opportunity come...</td>\n",
       "      <td>alternative energy</td>\n",
       "    </tr>\n",
       "    <tr>\n",
       "      <th>1</th>\n",
       "      <td>terms invention like tell tale favorite projec...</td>\n",
       "      <td>alternative energy</td>\n",
       "    </tr>\n",
       "    <tr>\n",
       "      <th>2</th>\n",
       "      <td>public dewey long ago observed constituted dis...</td>\n",
       "      <td>global development</td>\n",
       "    </tr>\n",
       "    <tr>\n",
       "      <th>3</th>\n",
       "      <td>want start saying houston problem entering sec...</td>\n",
       "      <td>industrial design</td>\n",
       "    </tr>\n",
       "    <tr>\n",
       "      <th>4</th>\n",
       "      <td>want talk background idea cars art actually qu...</td>\n",
       "      <td>industrial design</td>\n",
       "    </tr>\n",
       "    <tr>\n",
       "      <th>...</th>\n",
       "      <td>...</td>\n",
       "      <td>...</td>\n",
       "    </tr>\n",
       "    <tr>\n",
       "      <th>2381</th>\n",
       "      <td>imagine walked evening discovered everybody ro...</td>\n",
       "      <td>urban planning</td>\n",
       "    </tr>\n",
       "    <tr>\n",
       "      <th>2382</th>\n",
       "      <td>paying close attention easy attention pulled d...</td>\n",
       "      <td>cognitive science</td>\n",
       "    </tr>\n",
       "    <tr>\n",
       "      <th>2383</th>\n",
       "      <td>happy pic taken senior college right dance pra...</td>\n",
       "      <td>work-life balance</td>\n",
       "    </tr>\n",
       "    <tr>\n",
       "      <th>2384</th>\n",
       "      <td>seven year old grandson sleeps hall wakes lot ...</td>\n",
       "      <td>personal growth</td>\n",
       "    </tr>\n",
       "    <tr>\n",
       "      <th>2385</th>\n",
       "      <td>michael browning engineer innovator inventor r...</td>\n",
       "      <td>collaboration</td>\n",
       "    </tr>\n",
       "  </tbody>\n",
       "</table>\n",
       "<p>2386 rows × 2 columns</p>\n",
       "</div>"
      ],
      "text/plain": [
       "                                             transcript                tags\n",
       "0     thank chris truly great honor opportunity come...  alternative energy\n",
       "1     terms invention like tell tale favorite projec...  alternative energy\n",
       "2     public dewey long ago observed constituted dis...  global development\n",
       "3     want start saying houston problem entering sec...   industrial design\n",
       "4     want talk background idea cars art actually qu...   industrial design\n",
       "...                                                 ...                 ...\n",
       "2381  imagine walked evening discovered everybody ro...      urban planning\n",
       "2382  paying close attention easy attention pulled d...   cognitive science\n",
       "2383  happy pic taken senior college right dance pra...   work-life balance\n",
       "2384  seven year old grandson sleeps hall wakes lot ...     personal growth\n",
       "2385  michael browning engineer innovator inventor r...       collaboration\n",
       "\n",
       "[2386 rows x 2 columns]"
      ]
     },
     "execution_count": 9,
     "metadata": {},
     "output_type": "execute_result"
    }
   ],
   "source": [
    "def tag_selection(df=df):\n",
    "    complete_transcripts_tags = []\n",
    "    for rows, value in df.iterrows():\n",
    "        indiv_tags = value['tags'].split(',')\n",
    "        longest_tag = max(indiv_tags, key=len)\n",
    "        indiv_transcript_tags = [value['transcript'], longest_tag]\n",
    "        complete_transcripts_tags.append(indiv_transcript_tags)\n",
    "    return pd.DataFrame(complete_transcripts_tags, columns=['transcript', 'tags'])\n",
    "tag_cleaned = tag_selection()\n",
    "tag_cleaned"
   ]
  },
  {
   "cell_type": "code",
   "execution_count": 10,
   "metadata": {},
   "outputs": [
    {
     "name": "stdout",
     "output_type": "stream",
     "text": [
      "202\n"
     ]
    }
   ],
   "source": [
    "# Check unique tags\n",
    "tags_cleaned_up = tag_cleaned['tags'].unique()\n",
    "print(len(tags_cleaned_up))"
   ]
  },
  {
   "cell_type": "markdown",
   "metadata": {},
   "source": [
    "# 4. ML part"
   ]
  },
  {
   "cell_type": "code",
   "execution_count": 11,
   "metadata": {},
   "outputs": [],
   "source": [
    "from sklearn.model_selection import train_test_split"
   ]
  },
  {
   "cell_type": "code",
   "execution_count": 12,
   "metadata": {},
   "outputs": [],
   "source": [
    "# do the train test split \n",
    "transcript = tag_cleaned['transcript'].to_numpy()\n",
    "tags = tag_cleaned['tags'].to_numpy()\n",
    "X_train, X_test, y_train, y_test = train_test_split(\n",
    "     transcript, tags, test_size=0.2, random_state=42)"
   ]
  },
  {
   "cell_type": "code",
   "execution_count": 13,
   "metadata": {},
   "outputs": [
    {
     "data": {
      "text/plain": [
       "(1908, 51326)"
      ]
     },
     "execution_count": 13,
     "metadata": {},
     "output_type": "execute_result"
    }
   ],
   "source": [
    "count_vect = CountVectorizer()\n",
    "X_train_counts = count_vect.fit_transform(X_train)\n",
    "X_train_counts.shape"
   ]
  },
  {
   "cell_type": "code",
   "execution_count": 14,
   "metadata": {},
   "outputs": [
    {
     "data": {
      "text/plain": [
       "(1908, 51326)"
      ]
     },
     "execution_count": 14,
     "metadata": {},
     "output_type": "execute_result"
    }
   ],
   "source": [
    "tfidf_transformer = TfidfTransformer()\n",
    "X_train_tfidf = tfidf_transformer.fit_transform(X_train_counts)\n",
    "X_train_tfidf.shape\n"
   ]
  },
  {
   "cell_type": "code",
   "execution_count": 15,
   "metadata": {},
   "outputs": [],
   "source": [
    "clf = MultinomialNB().fit(X_train_tfidf, y_train)\n"
   ]
  },
  {
   "cell_type": "code",
   "execution_count": 16,
   "metadata": {},
   "outputs": [],
   "source": [
    "from sklearn.pipeline import Pipeline\n",
    "\n",
    "text_clf = Pipeline([('vect', CountVectorizer()), ('tfidf', TfidfTransformer()), ('clf', MultinomialNB())])\n",
    "\n",
    "text_clf = text_clf.fit(X_train, y_train)"
   ]
  },
  {
   "cell_type": "code",
   "execution_count": 17,
   "metadata": {},
   "outputs": [
    {
     "data": {
      "text/plain": [
       "0.1401673640167364"
      ]
     },
     "execution_count": 17,
     "metadata": {},
     "output_type": "execute_result"
    }
   ],
   "source": [
    "predicted = text_clf.predict(X_test)\n",
    "# print(y_test)\n",
    "# print(predicted)\n",
    "np.mean(predicted == y_test)"
   ]
  },
  {
   "cell_type": "code",
   "execution_count": 18,
   "metadata": {},
   "outputs": [
    {
     "name": "stdout",
     "output_type": "stream",
     "text": [
      "['global issues']\n"
     ]
    }
   ],
   "source": [
    "sample_ls = ['sample text']\n",
    "sample_ls = np.array(sample_ls)\n",
    "predicted_new = text_clf.predict(sample_ls)\n",
    "print(predicted_new)"
   ]
  },
  {
   "cell_type": "markdown",
   "metadata": {},
   "source": [
    "## 4.2 SVM Model"
   ]
  },
  {
   "cell_type": "code",
   "execution_count": 19,
   "metadata": {},
   "outputs": [
    {
     "name": "stderr",
     "output_type": "stream",
     "text": [
      "/home/kayes/anaconda3/envs/cds/lib/python3.7/site-packages/ipykernel_launcher.py:8: FutureWarning: elementwise comparison failed; returning scalar instead, but in the future will perform elementwise comparison\n",
      "  \n"
     ]
    },
    {
     "data": {
      "text/plain": [
       "0.0"
      ]
     },
     "execution_count": 19,
     "metadata": {},
     "output_type": "execute_result"
    }
   ],
   "source": [
    "from sklearn.linear_model import SGDClassifier\n",
    "text_clf_svm = Pipeline([('vect', CountVectorizer()), ('tfidf', TfidfTransformer()), \n",
    "                         ('clf-svm', SGDClassifier(loss='hinge', penalty='l2',\n",
    "                                                   alpha=1e-3, n_iter_no_change=5, random_state=42)),\n",
    "                        ])\n",
    "text_clf_svm = text_clf_svm.fit(X_train, y_train)\n",
    "predicted_svm = text_clf_svm.predict(X_train)\n",
    "np.mean(predicted_svm == y_test)"
   ]
  },
  {
   "cell_type": "markdown",
   "metadata": {},
   "source": [
    "## 4.3 Gridsearch"
   ]
  },
  {
   "cell_type": "code",
   "execution_count": 20,
   "metadata": {},
   "outputs": [
    {
     "name": "stderr",
     "output_type": "stream",
     "text": [
      "/home/kayes/anaconda3/envs/cds/lib/python3.7/site-packages/sklearn/model_selection/_split.py:1978: FutureWarning: The default value of cv will change from 3 to 5 in version 0.22. Specify it explicitly to silence this warning.\n",
      "  warnings.warn(CV_WARNING, FutureWarning)\n",
      "/home/kayes/anaconda3/envs/cds/lib/python3.7/site-packages/sklearn/model_selection/_split.py:657: Warning: The least populated class in y has only 1 members, which is too few. The minimum number of members in any class cannot be less than n_splits=3.\n",
      "  % (min_groups, self.n_splits)), Warning)\n",
      "/home/kayes/anaconda3/envs/cds/lib/python3.7/site-packages/sklearn/model_selection/_search.py:814: DeprecationWarning: The default of the `iid` parameter will change from True to False in version 0.22 and will be removed in 0.24. This will change numeric results when test-set sizes are unequal.\n",
      "  DeprecationWarning)\n"
     ]
    },
    {
     "data": {
      "text/plain": [
       "{'clf-svm__alpha': 0.001, 'tfidf__use_idf': True, 'vect__ngram_range': (1, 1)}"
      ]
     },
     "execution_count": 20,
     "metadata": {},
     "output_type": "execute_result"
    }
   ],
   "source": [
    "from sklearn.model_selection import GridSearchCV\n",
    "parameters_svm = {'vect__ngram_range': [(1, 1), (1, 2)],\n",
    "                      'tfidf__use_idf': (True, False), \n",
    "                      'clf-svm__alpha': (1e-2, 1e-3),}\n",
    "gs_clf_svm = GridSearchCV(text_clf_svm, parameters_svm, n_jobs=-1)\n",
    "gs_clf_svm = gs_clf_svm.fit(X_train, y_train)\n",
    "gs_clf_svm.best_score_\n",
    "gs_clf_svm.best_params_"
   ]
  },
  {
   "cell_type": "code",
   "execution_count": 21,
   "metadata": {},
   "outputs": [
    {
     "data": {
      "text/plain": [
       "0.2510482180293501"
      ]
     },
     "execution_count": 21,
     "metadata": {},
     "output_type": "execute_result"
    }
   ],
   "source": [
    "gs_clf_svm.best_score_"
   ]
  },
  {
   "cell_type": "code",
   "execution_count": 22,
   "metadata": {},
   "outputs": [
    {
     "data": {
      "text/plain": [
       "['gs_clf_svm.joblib']"
      ]
     },
     "execution_count": 22,
     "metadata": {},
     "output_type": "execute_result"
    }
   ],
   "source": [
    "from joblib import dump, load\n",
    "#dump(gs_clf_svm, 'gs_clf_svm.joblib') "
   ]
  },
  {
   "cell_type": "code",
   "execution_count": 23,
   "metadata": {},
   "outputs": [
    {
     "name": "stdout",
     "output_type": "stream",
     "text": [
      "['architecture']\n"
     ]
    }
   ],
   "source": [
    "sample_ls = [\"As New Yorkers, we're often busy looking up at the development going on around us. We rarely stop to consider what lies beneath the city streets. And it's really hard to imagine that this small island village would one day become a forest of skyscrapers. Yet, as an urban archaeologist, that's exactly what I do. I consider landscapes, artifacts to tell the stories of the people who walked these streets before us. Because history is so much more than facts and figures. When people think of archaeology, they usually think of dusty old maps, far off lands, ancient civilizations. You don't think New York City and construction sites. Yet, that's where all the action happens and we're never sure exactly what we're going to find beneath the city streets. Like this wooden well ring which was the base for the construction of a water well. It provided us an opportunity to take a sample of the wood for tree-ring dating, and get a date to confirm the fact that we had indeed found a series of 18th-century structures beneath Fulton Street. Archaeology is about everyday people using everyday objects, like the child who may have played with this small toy, or the person who consumed the contents of this bottle. This bottle contained water imported from Germany and dates to 1790. Now okay, we know New Yorkers always had to go to great lengths to get fresh drinking water. Small island, you really couldn't drink the well water, it was to brackish. But the notion that New Yorkers were importing bottled water from Europe, more then two hundred years ago, is truly a testament to the fact that New York City is a cosmopolitan city, always has been, where you could get practically anything from anywhere. If you and I were to walk through City Hall Park, you might see an urban park and government offices. I see New York City's largest and most complex archaeological site. And it's significant not because it's City Hall, but because of the thousands of poor prisoners and British soldiers who lived and died here. Before it was City Hall Park, the area was known as The Common, and it was pretty far outside the city limits. In the 17th century, it was a place for public protests and execution. \"]\n",
    "sample_ls = np.array(sample_ls)\n",
    "predicted_new = gs_clf_svm.predict(sample_ls)\n",
    "print(predicted_new)"
   ]
  }
 ],
 "metadata": {
  "kernelspec": {
   "display_name": "Python 3",
   "language": "python",
   "name": "python3"
  },
  "language_info": {
   "codemirror_mode": {
    "name": "ipython",
    "version": 3
   },
   "file_extension": ".py",
   "mimetype": "text/x-python",
   "name": "python",
   "nbconvert_exporter": "python",
   "pygments_lexer": "ipython3",
   "version": "3.7.5"
  }
 },
 "nbformat": 4,
 "nbformat_minor": 4
}
