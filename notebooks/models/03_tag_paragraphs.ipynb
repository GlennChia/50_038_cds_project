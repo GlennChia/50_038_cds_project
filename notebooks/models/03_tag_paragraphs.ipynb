{
 "cells": [
  {
   "cell_type": "markdown",
   "metadata": {},
   "source": [
    "# 1. References\n",
    "\n",
    "Title: kmeans text clustering\n",
    "\n",
    "Link: https://pythonprogramminglanguage.com/kmeans-text-clustering/\n",
    "\n",
    "Link: https://www.experfy.com/blog/k-means-clustering-in-text-data\n"
   ]
  },
  {
   "cell_type": "markdown",
   "metadata": {},
   "source": [
    "# 2. Imports"
   ]
  },
  {
   "cell_type": "code",
   "execution_count": 1,
   "metadata": {},
   "outputs": [],
   "source": [
    "from sklearn.feature_extraction.text import TfidfVectorizer\n",
    "from sklearn.cluster import KMeans\n",
    "from sklearn.metrics import adjusted_rand_score\n",
    "import pandas as pd\n",
    "import nltk\n",
    "from nltk.corpus import stopwords\n",
    "from nltk.tokenize import word_tokenize \n",
    "from nltk.tokenize import ToktokTokenizer"
   ]
  },
  {
   "cell_type": "markdown",
   "metadata": {},
   "source": [
    "# 3. Data cleaning"
   ]
  },
  {
   "cell_type": "code",
   "execution_count": 43,
   "metadata": {},
   "outputs": [
    {
     "data": {
      "text/html": [
       "<div>\n",
       "<style scoped>\n",
       "    .dataframe tbody tr th:only-of-type {\n",
       "        vertical-align: middle;\n",
       "    }\n",
       "\n",
       "    .dataframe tbody tr th {\n",
       "        vertical-align: top;\n",
       "    }\n",
       "\n",
       "    .dataframe thead th {\n",
       "        text-align: right;\n",
       "    }\n",
       "</style>\n",
       "<table border=\"1\" class=\"dataframe\">\n",
       "  <thead>\n",
       "    <tr style=\"text-align: right;\">\n",
       "      <th></th>\n",
       "      <th>id</th>\n",
       "      <th>speaker</th>\n",
       "      <th>headline</th>\n",
       "      <th>description</th>\n",
       "      <th>tags</th>\n",
       "      <th>transcript</th>\n",
       "    </tr>\n",
       "  </thead>\n",
       "  <tbody>\n",
       "    <tr>\n",
       "      <th>0</th>\n",
       "      <td>1</td>\n",
       "      <td>Al Gore</td>\n",
       "      <td>Averting the climate crisis</td>\n",
       "      <td>With the same humor and humanity he exuded in ...</td>\n",
       "      <td>cars,alternative energy,culture,politics,scien...</td>\n",
       "      <td>0:14\\r\\r\\rThank you so much, Chris.\\rAnd it's ...</td>\n",
       "    </tr>\n",
       "    <tr>\n",
       "      <th>1</th>\n",
       "      <td>2</td>\n",
       "      <td>Amy Smith</td>\n",
       "      <td>Simple designs to save a life</td>\n",
       "      <td>Fumes from indoor cooking fires kill more than...</td>\n",
       "      <td>MacArthur grant,simplicity,industrial design,a...</td>\n",
       "      <td>0:11\\r\\r\\rIn terms of invention,\\rI'd like to ...</td>\n",
       "    </tr>\n",
       "    <tr>\n",
       "      <th>2</th>\n",
       "      <td>3</td>\n",
       "      <td>Ashraf Ghani</td>\n",
       "      <td>How to rebuild a broken state</td>\n",
       "      <td>Ashraf Ghani's passionate and powerful 10-minu...</td>\n",
       "      <td>corruption,poverty,economics,investment,milita...</td>\n",
       "      <td>0:12\\r\\r\\rA public, Dewey long ago observed,\\r...</td>\n",
       "    </tr>\n",
       "    <tr>\n",
       "      <th>3</th>\n",
       "      <td>4</td>\n",
       "      <td>Burt Rutan</td>\n",
       "      <td>The real future of space exploration</td>\n",
       "      <td>In this passionate talk, legendary spacecraft ...</td>\n",
       "      <td>aircraft,flight,industrial design,NASA,rocket ...</td>\n",
       "      <td>0:11\\r\\r\\rI want to start off by saying, Houst...</td>\n",
       "    </tr>\n",
       "    <tr>\n",
       "      <th>4</th>\n",
       "      <td>5</td>\n",
       "      <td>Chris Bangle</td>\n",
       "      <td>Great cars are great art</td>\n",
       "      <td>American designer Chris Bangle explains his ph...</td>\n",
       "      <td>cars,industrial design,transportation,inventio...</td>\n",
       "      <td>0:12\\r\\r\\rWhat I want to talk about is, as bac...</td>\n",
       "    </tr>\n",
       "  </tbody>\n",
       "</table>\n",
       "</div>"
      ],
      "text/plain": [
       "   id       speaker                              headline  \\\n",
       "0   1       Al Gore           Averting the climate crisis   \n",
       "1   2     Amy Smith         Simple designs to save a life   \n",
       "2   3  Ashraf Ghani         How to rebuild a broken state   \n",
       "3   4    Burt Rutan  The real future of space exploration   \n",
       "4   5  Chris Bangle              Great cars are great art   \n",
       "\n",
       "                                         description  \\\n",
       "0  With the same humor and humanity he exuded in ...   \n",
       "1  Fumes from indoor cooking fires kill more than...   \n",
       "2  Ashraf Ghani's passionate and powerful 10-minu...   \n",
       "3  In this passionate talk, legendary spacecraft ...   \n",
       "4  American designer Chris Bangle explains his ph...   \n",
       "\n",
       "                                                tags  \\\n",
       "0  cars,alternative energy,culture,politics,scien...   \n",
       "1  MacArthur grant,simplicity,industrial design,a...   \n",
       "2  corruption,poverty,economics,investment,milita...   \n",
       "3  aircraft,flight,industrial design,NASA,rocket ...   \n",
       "4  cars,industrial design,transportation,inventio...   \n",
       "\n",
       "                                          transcript  \n",
       "0  0:14\\r\\r\\rThank you so much, Chris.\\rAnd it's ...  \n",
       "1  0:11\\r\\r\\rIn terms of invention,\\rI'd like to ...  \n",
       "2  0:12\\r\\r\\rA public, Dewey long ago observed,\\r...  \n",
       "3  0:11\\r\\r\\rI want to start off by saying, Houst...  \n",
       "4  0:12\\r\\r\\rWhat I want to talk about is, as bac...  "
      ]
     },
     "execution_count": 43,
     "metadata": {},
     "output_type": "execute_result"
    }
   ],
   "source": [
    "# file_name = 'TED_Talks_by_ID_plus-transcripts-and-LIWC-and-MFT-plus-views.csv'\n",
    "file_name = 'TED_Transcripts_short.csv'\n",
    "df = pd.read_csv('../owentemple-ted-talks-complete-list/{}'.format(file_name))\n",
    "df.head()"
   ]
  },
  {
   "cell_type": "code",
   "execution_count": 3,
   "metadata": {},
   "outputs": [
    {
     "name": "stdout",
     "output_type": "stream",
     "text": [
      "<class 'pandas.core.frame.DataFrame'>\n",
      "RangeIndex: 11 entries, 0 to 10\n",
      "Data columns (total 6 columns):\n",
      "id             11 non-null int64\n",
      "speaker        11 non-null object\n",
      "headline       11 non-null object\n",
      "description    11 non-null object\n",
      "tags           11 non-null object\n",
      "transcript     11 non-null object\n",
      "dtypes: int64(1), object(5)\n",
      "memory usage: 608.0+ bytes\n"
     ]
    }
   ],
   "source": [
    "df.iloc[:,:15].info()"
   ]
  },
  {
   "cell_type": "code",
   "execution_count": 4,
   "metadata": {},
   "outputs": [
    {
     "name": "stdout",
     "output_type": "stream",
     "text": [
      "<class 'pandas.core.frame.DataFrame'>\n",
      "RangeIndex: 11 entries, 0 to 10\n",
      "Data columns (total 6 columns):\n",
      "id             11 non-null int64\n",
      "speaker        11 non-null object\n",
      "headline       11 non-null object\n",
      "description    11 non-null object\n",
      "tags           11 non-null object\n",
      "transcript     11 non-null object\n",
      "dtypes: int64(1), object(5)\n",
      "memory usage: 608.0+ bytes\n"
     ]
    }
   ],
   "source": [
    "df = df.dropna(subset=['transcript'])\n",
    "df = df.reset_index(drop=True)\n",
    "df.iloc[:,:15].info()"
   ]
  },
  {
   "cell_type": "code",
   "execution_count": 36,
   "metadata": {},
   "outputs": [
    {
     "data": {
      "text/plain": [
       "'0:11\\r\\r\\rAs you pointed out, every time you come here, you learn something.\\rThis morning, the world\\'s experts\\rfrom I guess three or four different companies on building seats,\\rI think concluded that ultimately, the solution is, people shouldn\\'t sit down.\\rI could have told them that.\\r(Laughter)\\rYesterday, the automotive guys gave us some new insights.\\rThey pointed out that, I believe it was between 30 and 50 years from today,\\rthey will be steering cars by wire,\\rwithout all that mechanical stuff.\\r(Laughter)\\rThat\\'s reassuring.\\r(Applause)\\rThey then pointed out that there\\'d be, sort of, the other controls by wire,\\rto get rid of all that mechanical stuff.\\rThat\\'s pretty good, but why not get rid of the wires?\\rThen you don\\'t need anything to control the car, except thinking about it.\\rI would love to talk about the technology,\\rand sometime, in what\\'s past the 15 minutes,\\rI\\'ll be happy to talk to all the techno-geeks around here\\rabout what\\'s in here.\\rBut if I had one thing to say about this, before we get to first,\\rit would be that from the time we started building this,\\rthe big idea wasn\\'t the technology.\\rIt really was a big idea in technology when we started applying it\\rin the iBOT for the disabled community.\\rThe big idea here is, I think, a new piece of a solution\\rto a fairly big problem in transportation.\\rAnd maybe to put that in perspective: there\\'s so much data on this,\\rI\\'ll be happy to give it to you in different forms.\\rYou never know what strikes the fancy of whom,\\rbut everybody is perfectly willing to believe the car changed the world.\\rAnd Henry Ford, just about 100 years ago, started cranking out Model Ts.\\rWhat I don\\'t think most people think about\\ris the context of how technology is applied.\\rFor instance, in that time, 91 percent of America\\rlived either on farms or in small towns.\\rSo, the car \\rthe horseless carriage that replaced the horse and carriage  was a big deal;\\rit went twice as fast as a horse and carriage.\\rIt was half as long.\\rAnd it was an environmental improvement, because, for instance,\\rin 1903 they outlawed horses and buggies in downtown Manhattan,\\rbecause you can imagine what the roads look like\\rwhen you have a million horses,\\rand a million of them urinating and doing other things,\\rand the typhoid and other problems created were almost unimaginable.\\rSo the car was the clean environmental alternative to a horse and buggy.\\rIt also was a way for people to get from their farm to a farm,\\ror their farm to a town, or from a town to a city.\\rIt all made sense, with 91 percent of the people living there.\\rBy the 1950s, we started connecting all the towns together\\rwith what a lot of people claim is the eighth wonder of the world, the highway system.\\rAnd it is certainly a wonder.\\rAnd by the way, as I take shots at old technologies,\\rI want to assure everybody, and particularly the automotive industry \\rwho\\'s been very supportive of us \\rthat I don\\'t think this in any way competes with airplanes, or cars.\\rBut think about where the world is today.\\r50 percent of the global population now lives in cities.\\rThat\\'s 3.2 billion people.\\rWe\\'ve solved all the transportation problems\\rthat have changed the world to get it to where we are today.\\r500 years ago, sailing ships started getting reliable enough;\\rwe found a new continent.\\r150 years ago, locomotives got efficient enough, steam power,\\rthat we turned the continent into a country.\\rOver the last hundred years, we started building cars,\\rand then over the 50 years we\\'ve connected every city to every other city\\rin an extraordinarily efficient way,\\rand we have a very high standard of living as a consequence of that.\\rBut during that entire process, more and more people have been born,\\rand more and more people are moving to cities.\\rChina alone is going to move four to six hundred million people\\rinto cities in the next decade and a half.\\rAnd so, nobody, I think, would argue that airplanes, in the last 50 years,\\rhave turned the continent and the country now into a neighborhood.\\rAnd if you just look at how technology has been applied,\\rwe\\'ve solved all the long-range, high-speed, high-volume,\\rlarge-weight problems of moving things around.\\rNobody would want to give them up.\\rAnd I certainly wouldn\\'t want to give up my airplane,\\ror my helicopter, or my Humvee, or my Porsche.\\rI love them all. I don\\'t keep any of them in my living room.\\rThe fact is, the last mile is the problem,\\rand half the world now lives in dense cities.\\rAnd people spend, depending on who they are,\\rbetween 90 and 95 percent of their energy getting around on foot.\\rI think there\\'s  I don\\'t know what data would impress you,\\rbut how about, 43 percent of the refined fuel produced in the world\\ris consumed by cars in metropolitan areas in the United States.\\rThree million people die every year in cities due to bad air,\\rand almost all particulate pollution on this planet\\ris produced by transportation devices, particularly sitting in cities.\\rAnd again, I say that not to attack any industry,\\rI think  I really do  I love my airplane,\\rand cars on highways moving 60 miles an hour\\rare extraordinarily efficient,\\rboth from an engineering point of view,\\ran energy consumption point of view, and a utility point of view.\\rAnd we all love our cars, and I do.\\rThe problem is, you get into the city and you want to go four blocks,\\rit\\'s neither fun nor efficient nor productive.\\rIt\\'s not sustainable.\\rIf  in China, in the year 1998, 417 million people used bicycles;\\r1.7 million people used cars.\\rIf five percent of that population became, quote, middle class,\\rand wanted to go the way we\\'ve gone in the last hundred years\\rat the same time that 50 percent of their population are moving into cities\\rof the size and density of Manhattan, every six weeks \\rit isn\\'t sustainable environmentally;\\rit isn\\'t sustainable economically  there just ain\\'t enough oil \\rand it\\'s not sustainable politically.\\rI mean, what are we fighting over right now?\\rWe can make it complicated, but what\\'s the world fighting over right now?\\rSo it seemed to me that somebody had to work on that last mile,\\rand it was dumb luck. We were working on iBOTs,\\rbut once we made this, we instantly decided\\rit could be a great alternative to jet skis. You don\\'t need the water.\\rOr snowmobiles. You don\\'t need the snow.\\rOr skiing. It\\'s just fun, and people love to move around doing fun things.\\rAnd every one of those industries, by the way \\rjust golf carts alone is a multi-billion-dollar industry.\\rBut rather than go license this off, which is what we normally do,\\rit seemed to me that if we put all our effort not into the technology,\\rbut into an understanding of a world that\\'s solved all its other problems,\\rbut has somehow come to accept that cities  which,\\rright back from ancient Greece on, were meant to walk around,\\rcities that were architected and built for people \\rnow have a footprint that,\\rwhile we\\'ve solved every other transportation problem \\rand it\\'s like Moore\\'s law.\\rI mean, look at the time it took to cross a continent in a Conestoga wagon,\\rthen on a railroad, then an airplane.\\rEvery other form of transportation\\'s been improved.\\rIn 5,000 years, we\\'ve gone backwards in getting around cities.\\rThey\\'ve gotten bigger; they\\'re spread out.\\rThe most expensive real estate on this planet in every city \\rWilshire Boulevard, or Fifth Avenue, or Tokyo, or Paris \\rthe most expensive real estate is their downtowns.\\r65 percent of the landmass of our cities are parked cars.\\rThe 20 largest cities in the world.\\rSo you wonder, what if cities could give to their pedestrians\\rwhat we take for granted as we now go between cities?\\rWhat if you could make them fun, attractive, clean,\\renvironmentally friendly?\\rWhat if it would make it a little bit more palatable\\rto have access via this, as that last link to mass transit,\\rto get out to your cars so we can all live in the suburbs\\rand use our cars the way we want,\\rand then have our cities energized again?\\rWe thought it would be really neat to do that,\\rand one of the problems we really were worried about\\ris: how do we get legal on the sidewalk?\\rBecause technically I\\'ve got motors; I\\'ve got wheels  I\\'m a motor vehicle.\\rI don\\'t look like a motor vehicle.\\rI have the same footprint as a pedestrian;\\rI have the same unique capability\\rto deal with other pedestrians in a crowded space.\\rI took this down to Ground Zero,\\rand knocked my way through crowds for an hour.\\rI\\'m a pedestrian. But the law typically lags technology by a generation or two,\\rand if we get told we don\\'t belong on the sidewalk, we have two choices.\\rWe\\'re a recreational vehicle that doesn\\'t really matter,\\rand I don\\'t spend my time doing that kind of stuff.\\rOr maybe we should be out in the street\\rin front of a Greyhound bus or a vehicle.\\rWe\\'ve been so concerned about that,\\rwe went to the Postmaster General of the United States,\\ras the first person we ever showed on the outside,\\rand said, \"Put your people on it. Everybody trusts their postman.\\rAnd they belong on the sidewalks, and they\\'ll use it seriously.\"\\rHe agreed. We went to a number of police departments\\rthat want their police officers back in the neighborhood\\ron the beat, carrying 70 pounds of stuff. They love it.\\rAnd I can\\'t believe a policeman is going to give themselves a ticket.\\r(Laughter)\\rSo we\\'ve been working really, really hard,\\rbut we knew that the technology would not be as hard to develop\\ras an attitude about what\\'s important, and how to apply the technology.\\rWe went out and we found some visionary people\\rwith enough money to let us design and build these things,\\rand in hopefully enough time to get them accepted.\\rSo, I\\'m happy, really, I am happy to talk about this technology as much as you want.\\rAnd yes, it\\'s really fun, and yes, you should all go out and try it.\\rBut if I could ask you to do one thing,\\rit\\'s not to think about it as a piece of technology,\\rbut just imagine that, although we all understand somehow\\rthat it\\'s reasonable that we use our 4,000-pound machine,\\rwhich can go 60 miles an hour,\\rthat can bring you everywhere you want to go,\\rand somehow it\\'s also what we used for the last mile,\\rand it\\'s broken, and it doesn\\'t work.\\rOne of the more exciting things that occurred to us\\rabout why it might get accepted, happened out here in California.\\rA few weeks ago, after we launched it,\\rwe were here with a news crew on Venice Beach, zipping up and back,\\rand he\\'s marveling at the technology,\\rand meanwhile bicycles are zipping by,\\rand skateboarders are zipping by,\\rand a little old lady  I mean, if you looked in the dictionary,\\ra little old lady  came by me \\rand now that I\\'m on this, I\\'m the height of a normal adult now \\rand she just stops, and the camera is there, and she looks up at me\\rand says, \"Can I try that?\"\\rAnd what was I  you know, how are you going to say anything?\\rAnd so I said, \"Sure.\"\\rSo I get off, and she gets on, and with a little bit of the usual, ah,\\rthen she turns around, and she goes about 20 feet,\\rand she turns back around, and she\\'s all smiles.\\rAnd she comes back to me and she stops, and she says,\\r\"Finally, they made something for us.\"\\rAnd the camera is looking down at her.\\rI\\'m thinking, \"Wow, that was great \\r(Laughter)\\r please lady, don\\'t say another word.\"\\r(Laughter)\\rAnd the camera is down at her,\\rand this guy has to put the microphone in her face,\\rsaid, \"What do you mean by that?\"\\rAnd I figured, \"It\\'s all over now,\"\\rand she looks up and she says, \"Well,\"\\rshe\\'s still watching these guys go; she says, \"I can\\'t ride a bike,\" no,\\rshe says, \"I can\\'t use a skateboard, and I\\'ve never used roller blades,\"\\rshe knew them by name;\\rshe says, \"And it\\'s been 50 years since I rode a bicycle.\"\\rThen she looks up, she\\'s looking up, and she says,\\r\"And I\\'m 81 years old, and I don\\'t drive a car anymore.\\rI still have to get to the store, and I can\\'t carry a lot of things.\"\\rAnd it suddenly occurred to me, that among my many fears,\\rwere not just that the bureaucracy and the regulators\\rand the legislators might not get it \\rit was that, fundamentally, you believe there\\'s pressure among the people\\rnot to invade the most precious little bit of space left,\\rthe sidewalks in these cities.\\rWhen you look at the 36 inches of legal requirement for sidewalk,\\rthen the eight foot for the parked car, then the three lanes,\\rand then the other eight feet  it\\'s \\rthat little piece is all that\\'s there.\\rBut she looks up and says this,\\rand it occurs to me, well, kids aren\\'t going to mind these things,\\rand they don\\'t vote, and business people and then young adults\\raren\\'t going to mind these things  they\\'re pretty cool \\rso I guess subliminally I was worried\\rthat it\\'s the older population that\\'s going to worry.\\rSo, having seen this, and having worried about it for eight years,\\rthe first thing I do is pick up my phone and ask our marketing and regulatory guys,\\rcall AARP, get an appointment right away.\\rWe\\'ve got to show them this thing.\\rAnd they took it to Washington; they showed them;\\rand they\\'re going to be involved now,\\rwatching how these things get absorbed in a number of cities,\\rlike Atlanta, where we\\'re doing trials to see if it really can, in fact,\\rhelp re-energize their downtown.\\r(Applause)\\rThe bottom line is, whether you believe the United Nations,\\ror any of the other think tanks \\rin the next 20 years, all human population growth on this planet\\rwill be in cities.\\rIn Asia alone, it will be over a billion people.\\rThey learned to start with cell phones.\\rThey didn\\'t have to take the 100-year trip we took.\\rThey start at the top of the technology food chain.\\rWe\\'ve got to start building cities and human environments\\rwhere a 150-pound person can go a couple of miles\\rin a dense, rich, green-space environment,\\rwithout being in a 4,000-pound machine to do it.\\rCars were not meant for parallel parking;\\rthey\\'re wonderful machines to go between cities, but just think about it:\\rwe\\'ve solved all the long-range, high-speed problems.\\rThe Greeks went from the theater of Dionysus to the Parthenon in their sandals.\\rYou do it in your sneakers.\\rNot much has changed.\\rIf this thing goes only three times as fast as walking  three times \\ra 30-minute walk becomes 10 minutes.\\rYour choice, when living in a city, if it\\'s now 10 minutes \\rbecause at 30 minutes you want an alternative, whether it\\'s a bus, a train \\rwe\\'ve got to build an infrastructure  a light rail \\ror you\\'re going to keep parking those cars.\\rBut if you could put a pin in most cities,\\rand imagine how far you could, if you had the time, walk in one half-hour, it\\'s the city.\\rIf you could make it fun, and make it eight or 10 minutes,\\ryou can\\'t find your car, un-park your car, move your car,\\rre-park your car and go somewhere;\\ryou can\\'t get to a cab or a subway.\\rWe could change the way people allocate their resources,\\rthe way this planet uses its energy,\\rmake it more fun.\\rAnd we\\'re hoping to some extent history will say we were right.\\rThat\\'s Segway. This is a Stirling cycle engine;\\rthis had been confused by a lot of things we\\'re doing.\\rThis little beast, right now, is producing a few hundred watts of electricity.\\rYes, it could be attached to this,\\rand yes, on a kilogram of propane,\\ryou could drive from New York to Boston if you so choose.\\rPerhaps more interesting about this little engine is it\\'ll burn any fuel,\\rbecause some of you might be skeptical\\rabout the capability of this to have an impact,\\rwhere most of the world you can\\'t simply plug into your 120-volt outlet.\\rWe\\'ve been working on this,\\ractually, as an alternative energy source,\\rstarting way back with Johnson & Johnson, to run an iBOT,\\rbecause the best batteries you could get \\r10 watt-hours per kilogram in lead,\\r20 watt-hours per kilogram nickel-cadmium,\\r40 watt-hours per kilogram in nickel-metal hydride,\\r60 watt-hours per kilogram in lithium,\\r8,750 watt-hours of energy in every kilogram of propane or gasoline \\rwhich is why nobody drives electric cars.\\rBut, in any event, if you can burn it with the same efficiency \\rbecause it\\'s external combustion  as your kitchen stove,\\rif you can burn any fuel, it turns out to be pretty neat.\\rIt makes just enough electricity to, for instance, do this,\\rwhich at night is enough electricity, in the rest of the world,\\ras Mr. Holly  Dr. Holly  pointed out,\\rcan run computers and a light bulb.\\rBut more interestingly, the thermodynamics of this say,\\ryou\\'re never going to get more than 20 percent efficiency.\\rIt doesn\\'t matter much  it says if you get 200 watts of electricity,\\ryou\\'ll get 700 or 800 watts of heat.\\rIf you wanted to boil water and re-condense it at a rate of 10 gallons an hour,\\rit takes about 25, a little over 25.3 kilowatt \\r25,000 watts of continuous power  to do it.\\rThat\\'s so much energy, you couldn\\'t afford to desalinate\\ror clean water in this country that way.\\rCertainly, in the rest of the world, your choice is to devastate the place,\\rturning everything that will burn into heat, or drink the water that\\'s available.\\rThe number one cause of death on this planet among humans is bad water.\\rDepending on whose numbers you believe,\\rit\\'s between 60 and 85,000 people per day.\\rWe don\\'t need sophisticated heart transplants around the world.\\rWe need water.\\rAnd women shouldn\\'t have to spend four hours a day looking for it,\\ror watching their kids die.\\rWe figured out how to put a vapor-compression distiller on this thing,\\rwith a counter-flow heat exchanger to take the waste heat,\\rthen using a little bit of the electricity control that process,\\rand for 450 watts, which is a little more than half of its waste heat,\\rit will make 10 gallons an hour of distilled water\\rfrom anything that comes into it to cool it.\\rSo if we put this box on here in a few years,\\rcould we have a solution to transportation, electricity,\\rand communication, and maybe drinkable water\\rin a sustainable package that weighs 60 pounds?\\rI don\\'t know, but we\\'ll try it.\\rI better shut up.\\r(Applause)'"
      ]
     },
     "execution_count": 36,
     "metadata": {},
     "output_type": "execute_result"
    }
   ],
   "source": [
    "df['transcript'][8]"
   ]
  },
  {
   "cell_type": "code",
   "execution_count": 44,
   "metadata": {},
   "outputs": [],
   "source": [
    "df['transcript'] = df['transcript'].str.replace('\\r',' ')\n",
    "df['transcript'] = df['transcript'].str.replace(\"\\'s\",\" is\")\n",
    "df['transcript'] = df['transcript'].str.replace(\"\\'m\",\" am\")\n",
    "df['transcript'] = df['transcript'].str.replace(\"\\'ll\",\" will\")\n",
    "df['transcript'] = df['transcript'].str.replace(\"n\\'t\",\" not\")\n",
    "df['transcript'] = df['transcript'].str.replace(\"\\'ve\",\" have\")\n",
    "df['transcript'] = df['transcript'].str.replace(\"\\'re\",\" are\")\n",
    "df['transcript'] = df['transcript'].str.replace(\"\\'d\",\" would\")\n",
    "df['transcript'] = df['transcript'].str.replace(r\"\\(([^)]+)\\)\",\"\")\n",
    "# Deal with Mr. and Dr.\n",
    "df['transcript'] = df['transcript'].str.replace(\"mr.\",\"mr\")\n",
    "df['transcript'] = df['transcript'].str.replace(\"Mr.\",\"mr\")\n",
    "df['transcript'] = df['transcript'].str.replace(\"dr.\",\"dr\")\n",
    "df['transcript'] = df['transcript'].str.replace(\"mrs.\",\"mrs\")\n",
    "df['transcript'] = df['transcript'].str.replace(\"Mrs.\",\"mrs\")\n",
    "df['transcript'] = df['transcript'].str.replace(\"Dr.\",\"dr\")"
   ]
  },
  {
   "cell_type": "code",
   "execution_count": 45,
   "metadata": {},
   "outputs": [],
   "source": [
    "import string\n",
    "df['transcript'] = df['transcript'].str.replace(r'\\d+','')\n",
    "df['transcript'] = df['transcript'].str.replace(r'<.*?>','')\n",
    "for i in string.punctuation:\n",
    "    if i == \"'\":\n",
    "        df['transcript'] = df['transcript'].str.replace(i,'')\n",
    "    elif i == \".\":\n",
    "        continue\n",
    "    else:\n",
    "        df['transcript'] = df['transcript'].str.replace(i,' ')\n",
    "df['transcript'] = df['transcript'].str.replace('\\s+',' ')"
   ]
  },
  {
   "cell_type": "code",
   "execution_count": 46,
   "metadata": {
    "scrolled": true
   },
   "outputs": [
    {
     "data": {
      "text/plain": [
       "' As you pointed out every time you come here you learn something. This morning the world is experts from I guess three or four different companies on building seats I think concluded that ultimately the solution is people should not sit down. I could have told them that. Yesterday the automotive guys gave us some new insights. They pointed out that I believe it was between and years from today they will be steering cars by wire without all that mechanical stuff. That is reassuring. They then pointed out that there would be sort of the other controls by wire to get rid of all that mechanical stuff. That is pretty good but why not get rid of the wires Then you do not need anything to control the car except thinking about it. I would love to talk about the technology and sometime in what is past the minutes I will be happy to talk to all the techno geeks around here about what is in here. But if I had one thing to say about this before we get to first it would be that from the time we started building this the big idea was not the technology. It really was a big idea in technology when we started applying it in the iBOT for the disabled community. The big idea here is I think a new piece of a solution to a fairly big problem in transportation. And maybe to put that in perspective there is so much data on this I will be happy to give it to you in different forms. You never know what strikes the fancy of whom but everybody is perfectly willing to believe the car changed the world. And Henry Ford just about years ago started cranking out Model Ts. What I do not think most people think about is the context of how technology is applied. For instance in that time percent of America lived either on farms or in small towns. So the car the horseless carriage that replaced the horse and carriage was a big deal it went twice as fast as a horse and carriage. It was half as long. And it was an environmental improvement because for instance in they outlawed horses and buggies in downtown Manhattan because you can imagine what the roads look like when you have a million horses and a million of them urinating and doing other things and the typhoid and other problems created were almost unimaginable. So the car was the clean environmental alternative to a horse and buggy. It also was a way for people to get from their farm to a farm or their farm to a town or from a town to a city. It all made sense with percent of the people living there. By the s we started connecting all the towns together with what a lot of people claim is the eighth wonder of the world the highway system. And it is certainly a wonder. And by the way as I take shots at old technologies I want to assure everybody and particularly the automotive industry who is been very supportive of us that I do not think this in any way competes with airplanes or cars. But think about where the world is today. percent of the global population now lives in cities. That is . billion people. We have solved all the transportation problems that have changed the world to get it to where we are today. years ago sailing ships started getting reliable enough we found a new continent. years ago locomotives got efficient enough steam power that we turned the continent into a country. Over the last hundrd years we started building cars and then over the years we have connected every city to every other city in an extraordinarily efficient way and we have a very high standard of living as a consequence of that. But during that entire process more and more people have been born and more and more people are moving to cities. China alone is going to move four to six hundrd million people into cities in the next decade and a half. And so nobody I think would argue that airplanes in the last years have turned the continent and the country now into a neighborhood. And if you just look at how technology has been applied we have solved all the long range high speed high volume large weight problems of moving things around. Nobody would want to give them up. And I certainly would not want to give up my airplane or my helicopter or my Humvee or my Porsche. I love them all. I do not keep any of them in my living room. The fact is the last mile is the problem and half the world now lives in dense cities. And people spend depending on who they are between and percent of their energy getting around on foot. I think there is I do not know what data would impress you but how about percent of the refined fuel produced in the world is consumed by cars in metropolitan areas in the United States. Three million people die every year in cities due to bad air and almost all particulate pollution on this planet is produced by transportation devices particularly sitting in cities. And again I say that not to attack any industry I think I really do I love my airplane and cars on highways moving miles an hour are extraordinarily efficient both from an engineering point of view an energy consumption point of view and a utility point of view. And we all love our cars and I do. The problem is you get into the city and you want to go four blocks it is neither fun nor efficient nor productive. It is not sustainable. If in China in the year million people used bicycles . million people used cars. If five percent of that population became quote middle class and wanted to go the way we have gone in the last hundrd years at the same time that percent of their population are moving into cities of the size and density of Manhattan every six weeks it is not sustainable environmentally it is not sustainable economically there just ai not enough oil and it is not sustainable politically. I mean what are we fighting over right now We can make it complicated but what is the world fighting over right now So it seemed to me that somebody had to work on that last mile and it was dumb luck. We were working on iBOTs but once we made this we instantly decided it could be a great alternative to jet skis. You do not need the water. Or snowmobiles. You do not need the snow. Or skiing. It is just fun and people love to move around doing fun things. And every one of those industries by the way just golf carts alone is a multi billion dollar industry. But rather than go license this off which is what we normally do it seemed to me that if we put all our effort not into the technology but into an understanding of a world that is solved all its other problems but has somehow come to accept that cities which right back from ancient Greece on were meant to walk around cities that were architected and built for people now have a footprint that while we have solved every other transportation problem and it is like Moore is law. I mean look at the time it took to cross a continent in a Conestoga wagon then on a railroad then an airplane. Every other form of transportation is been improved. In years we have gone backwards in getting around cities. They have gotten bigger they are spread out. The most expensive real estate on this planet in every city Wilshire Boulevard or Fifth Avenue or Tokyo or Paris the most expensive real estate is their downtowns. percent of the landmass of our cities are parked cars. The largest cities in the world. So you wonder what if cities could give to their pedestrians what we take for granted as we now go between cities What if you could make them fun attractive clean environmentally friendly What if it would make it a little bit more palatable to have access via this as that last link to mass transit to get out to your cars so we can all live in the suburbs and use our cars the way we want and then have our cities energized again We thought it would be really neat to do that and one of the problems we really were worried about is how do we get legal on the sidewalk Because technically I have got motors I have got wheels I am a motor vehicle. I do not look like a motor vehicle. I have the same footprint as a pedestrian I have the same unique capability to deal with other pedestrians in a crowded space. I took this down to Ground Zero and knocked my way through crowds for an hour. I am a pedestrian. But the law typically lags technology by a generation or two and if we get told we do not belong on the sidewalk we have two choices. We are a recreational vehicle that does not really matter and I do not spend my time doing that kind of stuff. Or maybe we should be out in the street in front of a Greyhound bus or a vehicle. We have been so concerned about that we went to the Postmaster General of the United States as the first person we ever showed on the outside and said Put your people on it. Everybody trusts their postman. And they belong on the sidewalks and they will use it seriously. He agreed. We went to a number of police departments that want their police officers back in the neighborhood on the beat carrying pounds of stuff. They love it. And I ca not believe a policeman is going to give themselves a ticket. So we have been working really really hard but we knew that the technology would not be as hard to develop as an attitude about what is important and how to apply the technology. We went out and we found some visionary people with enough money to let us design and build these things and in hopefully enough time to get them accepted. So I am happy really I am happy to talk about this technology as much as you want. And yes it is really fun and yes you should all go out and try it. But if I could ask you to do one thing it is not to think about it as a piece of technology but just imagine that although we all understand somehow that it is reasonable that we use our pound machine which can go miles an hour that can bring you everywhere you want to go and somehow it is also what we used for the last mile and it is broken and it does not work. One of the more exciting things that occurred to us about why it might get accepted happened out here in California. A few weeks ago after we launched it we were here with a news crew on Venice Beach zipping up and back and he is marveling at the technology and meanwhile bicycles are zipping by and skateboarders are zipping by and a little old lady I mean if you looked in the dictionary a little old lady came by me and now that I am on this I am the height of a normal adult now and she just stops and the camera is there and she looks up at me and says Can I try that And what was I you know how are you going to say anything And so I said Sure. So I get off and she gets on and with a little bit of the usual ah then she turns around and she goes about feet and she turns back around and she is all smiles. And she comes back to me and she stops and she says Finally they made something for us. And the camera is looking down at her. I am thinking Wow that was great please lady do not say another word. And the camera is down at her and this guy has to put the microphone in her face said What do you mean by that And I figured It is all over now and she looks up and she says Well she is still watching these guys go she says I ca not ride a bike no she says I ca not use a skateboard and I have never used roller blades she knew them by name she says And it is been years since I rode a bicycle. Then she looks up she is looking up and she says And I am years old and I do not drve a car anymore. I still have to get to the store and I ca not carry a lot of things. And it suddenly occurred to me that among my many fears were not just that the bureaucracy and the regulators and the legislators might not get it it was that fundamentally you believe there is pressure among the people not to invade the most precious little bit of space left the sidewalks in these cities. When you look at the inches of legal requirement for sidewalk then the eight foot for the parked car then the three lanes and then the other eight feet it is that little piece is all that is there. But she looks up and says this and it occurs to me well kids are not going to mind these things and they do not vote and business people and then young adults are not going to mind these things they are pretty cool so I guess subliminally I was worried that it is the older population that is going to worry. So having seen this and having worried about it for eight years the first thing I do is pick up my phone and ask our marketing and regulatory guys call AARP get an appointment right away. We have got to show them this thing. And they took it to Washington they showed them and they are going to be involved now watching how these things get absorbed in a number of cities like Atlanta where we are doing trials to see if it really can in fact help re energize their downtown. The bottom line is whether you believe the United Nations or any of the other think tanks in the next years all human population growth on this planet will be in cities. In Asia alone it will be over a billion people. They learned to start with cell phones. They did not have to take the year trip we took. They start at the top of the technology food chain. We have got to start building cities and human environments where a pound person can go a couple of miles in a dense rich green space environment without being in a pound machine to do it. Cars were not meant for parallel parking they are wonderful machines to go between cities but just think about it we have solved all the long range high speed problems. The Greeks went from the theater of Dionysus to the Parthenon in their sandals. You do it in your sneakers. Not much has changed. If this thing goes only three times as fast as walking three times a minute walk becomes minutes. Your choice when living in a city if it is now minutes because at minutes you want an alternative whether it is a bus a train we have got to build an infrastructure a light rail or you are going to keep parking those cars. But if you could put a pin in most cities and imagine how far you could if you had the time walk in one half hour it is the city. If you could make it fun and make it eight or minutes you ca not find your car un park your car move your car re park your car and go somewhere you ca not get to a cab or a subway. We could change the way people allocate their resources the way this planet uses its energy make it more fun. And we are hoping to some extent history will say we were right. That is Segway. This is a Stirling cycle engine this had been confused by a lot of things we are doing. This little beast right now is producing a few hundrd watts of electricity. Yes it could be attached to this and yes on a kilogram of propane you could drve from New York to Boston if you so choose. Perhaps more interesting about this little engine is it will burn any fuel because some of you might be skeptical about the capability of this to have an impact where most of the world you ca not simply plug into your volt outlet. We have been working on this actually as an alternative energy source starting way back with Johnson Johnson to run an iBOT because the best batteries you could get watt hours per kilogram in lead watt hours per kilogram nickel cadmium watt hours per kilogram in nickel metal hydrde watt hours per kilogram in lithium watt hours of energy in every kilogram of propane or gasoline which is why nobody drves electric cars. But in any event if you can burn it with the same efficiency because it is external combustion as your kitchen stove if you can burn any fuel it turns out to be pretty neat. It makes just enough electricity to for instance do this which at night is enough electricity in the rest of the world as mr Holly dr Holly pointed out can run computers and a light bulb. But more interestingly the thermodynamics of this say you are never going to get more than percent efficiency. It does not matter much it says if you get watts of electricity you will get or watts of heat. If you wanted to boil water and re condense it at a rate of gallons an hour it takes about a little over . kilowatt watts of continuous power to do it. That is so much energy you could not afford to desalinate or clean water in this country that way. Certainly in the rest of the world your choice is to devastate the place turning everything that will burn into heat or drnk the water that is available. The number one cause of death on this planet among humans is bad water. Depending on whose numbers you believe it is between and people per day. We do not need sophisticated heart transplants around the world. We need water. And women should not have to spend four hours a day looking for it or watching their kids die. We figured out how to put a vapor compression distiller on this thing with a counter flow heat exchanger to take the waste heat then using a little bit of the electricity control that process and for watts which is a little more than half of its waste heat it will make gallons an hour of distilled water from anything that comes into it to cool it. So if we put this box on here in a few years could we have a solution to transportation electricity and communication and maybe drnkable water in a sustainable package that weighs pounds I do not know but we will try it. I better shut up. '"
      ]
     },
     "execution_count": 46,
     "metadata": {},
     "output_type": "execute_result"
    }
   ],
   "source": [
    "df['transcript'][8]"
   ]
  },
  {
   "cell_type": "code",
   "execution_count": 47,
   "metadata": {},
   "outputs": [],
   "source": [
    "token=ToktokTokenizer()\n",
    "stopWordList=stopwords.words('english')\n",
    "\n",
    "\n",
    "def stopWordsRemove(text):\n",
    "    wordList=[x.lower().strip() for x in token.tokenize(text)]\n",
    "    removedList=[x + ' ' for x in wordList if not x in stopWordList]\n",
    "    text=''.join(removedList)\n",
    "    return text\n",
    "df['transcript'] = df['transcript'].map(lambda com : stopWordsRemove(com))"
   ]
  },
  {
   "cell_type": "code",
   "execution_count": 48,
   "metadata": {
    "scrolled": true
   },
   "outputs": [
    {
     "name": "stdout",
     "output_type": "stream",
     "text": [
      "pointed every time come learn something. morning world experts guess three four different companies building seats think concluded ultimately solution people sit down. could told that. yesterday automotive guys gave us new insights. pointed believe years today steering cars wire without mechanical stuff. reassuring. pointed would sort controls wire get rid mechanical stuff. pretty good get rid wires need anything control car except thinking it. would love talk technology sometime past minutes happy talk techno geeks around here. one thing say get first would time started building big idea technology. really big idea technology started applying ibot disabled community. big idea think new piece solution fairly big problem transportation. maybe put perspective much data happy give different forms. never know strikes fancy everybody perfectly willing believe car changed world. henry ford years ago started cranking model ts. think people think context technology applied. instance time percent america lived either farms small towns. car horseless carriage replaced horse carriage big deal went twice fast horse carriage. half long. environmental improvement instance outlawed horses buggies downtown manhattan imagine roads look like million horses million urinating things typhoid problems created almost unimaginable. car clean environmental alternative horse buggy. also way people get farm farm farm town town city. made sense percent people living there. started connecting towns together lot people claim eighth wonder world highway system. certainly wonder. way take shots old technologies want assure everybody particularly automotive industry supportive us think way competes airplanes cars. think world today. percent global population lives cities. . billion people. solved transportation problems changed world get today. years ago sailing ships started getting reliable enough found new continent. years ago locomotives got efficient enough steam power turned continent country. last hundrd years started building cars years connected every city every city extraordinarily efficient way high standard living consequence that. entire process people born people moving cities. china alone going move four six hundrd million people cities next decade half. nobody think would argue airplanes last years turned continent country neighborhood. look technology applied solved long range high speed high volume large weight problems moving things around. nobody would want give up. certainly would want give airplane helicopter humvee porsche. love all. keep living room. fact last mile problem half world lives dense cities. people spend depending percent energy getting around foot. think know data would impress percent refined fuel produced world consumed cars metropolitan areas united states. three million people die every year cities due bad air almost particulate pollution planet produced transportation devices particularly sitting cities. say attack industry think really love airplane cars highways moving miles hour extraordinarily efficient engineering point view energy consumption point view utility point view. love cars do. problem get city want go four blocks neither fun efficient productive. sustainable. china year million people used bicycles . million people used cars. five percent population became quote middle class wanted go way gone last hundrd years time percent population moving cities size density manhattan every six weeks sustainable environmentally sustainable economically ai enough oil sustainable politically. mean fighting right make complicated world fighting right seemed somebody work last mile dumb luck. working ibots made instantly decided could great alternative jet skis. need water. snowmobiles. need snow. skiing. fun people love move around fun things. every one industries way golf carts alone multi billion dollar industry. rather go license normally seemed put effort technology understanding world solved problems somehow come accept cities right back ancient greece meant walk around cities architected built people footprint solved every transportation problem like moore law. mean look time took cross continent conestoga wagon railroad airplane. every form transportation improved. years gone backwards getting around cities. gotten bigger spread out. expensive real estate planet every city wilshire boulevard fifth avenue tokyo paris expensive real estate downtowns. percent landmass cities parked cars. largest cities world. wonder cities could give pedestrians take granted go cities could make fun attractive clean environmentally friendly would make little bit palatable access via last link mass transit get cars live suburbs use cars way want cities energized thought would really neat one problems really worried get legal sidewalk technically got motors got wheels motor vehicle. look like motor vehicle. footprint pedestrian unique capability deal pedestrians crowded space. took ground zero knocked way crowds hour. pedestrian. law typically lags technology generation two get told belong sidewalk two choices. recreational vehicle really matter spend time kind stuff. maybe street front greyhound bus vehicle. concerned went postmaster general united states first person ever showed outside said put people it. everybody trusts postman. belong sidewalks use seriously. agreed. went number police departments want police officers back neighborhood beat carrying pounds stuff. love it. ca believe policeman going give ticket. working really really hard knew technology would hard develop attitude important apply technology. went found visionary people enough money let us design build things hopefully enough time get accepted. happy really happy talk technology much want. yes really fun yes go try it. could ask one thing think piece technology imagine although understand somehow reasonable use pound machine go miles hour bring everywhere want go somehow also used last mile broken work. one exciting things occurred us might get accepted happened california. weeks ago launched news crew venice beach zipping back marveling technology meanwhile bicycles zipping skateboarders zipping little old lady mean looked dictionary little old lady came height normal adult stops camera looks says try know going say anything said sure. get gets little bit usual ah turns around goes feet turns back around smiles. comes back stops says finally made something us. camera looking her. thinking wow great please lady say another word. camera guy put microphone face said mean figured looks says well still watching guys go says ca ride bike says ca use skateboard never used roller blades knew name says years since rode bicycle. looks looking says years old drve car anymore. still get store ca carry lot things. suddenly occurred among many fears bureaucracy regulators legislators might get fundamentally believe pressure among people invade precious little bit space left sidewalks cities. look inches legal requirement sidewalk eight foot parked car three lanes eight feet little piece there. looks says occurs well kids going mind things vote business people young adults going mind things pretty cool guess subliminally worried older population going worry. seen worried eight years first thing pick phone ask marketing regulatory guys call aarp get appointment right away. got show thing. took washington showed going involved watching things get absorbed number cities like atlanta trials see really fact help energize downtown. bottom line whether believe united nations think tanks next years human population growth planet cities. asia alone billion people. learned start cell phones. take year trip took. start top technology food chain. got start building cities human environments pound person go couple miles dense rich green space environment without pound machine it. cars meant parallel parking wonderful machines go cities think solved long range high speed problems. greeks went theater dionysus parthenon sandals. sneakers. much changed. thing goes three times fast walking three times minute walk becomes minutes. choice living city minutes minutes want alternative whether bus train got build infrastructure light rail going keep parking cars. could put pin cities imagine far could time walk one half hour city. could make fun make eight minutes ca find car un park car move car park car go somewhere ca get cab subway. could change way people allocate resources way planet uses energy make fun. hoping extent history say right. segway. stirling cycle engine confused lot things doing. little beast right producing hundrd watts electricity. yes could attached yes kilogram propane could drve new york boston choose. perhaps interesting little engine burn fuel might skeptical capability impact world ca simply plug volt outlet. working actually alternative energy source starting way back johnson johnson run ibot best batteries could get watt hours per kilogram lead watt hours per kilogram nickel cadmium watt hours per kilogram nickel metal hydrde watt hours per kilogram lithium watt hours energy every kilogram propane gasoline nobody drves electric cars. event burn efficiency external combustion kitchen stove burn fuel turns pretty neat. makes enough electricity instance night enough electricity rest world mr holly dr holly pointed run computers light bulb. interestingly thermodynamics say never going get percent efficiency. matter much says get watts electricity get watts heat. wanted boil water condense rate gallons hour takes little . kilowatt watts continuous power it. much energy could afford desalinate clean water country way. certainly rest world choice devastate place turning everything burn heat drnk water available. number one cause death planet among humans bad water. depending whose numbers believe people per day. need sophisticated heart transplants around world. need water. women spend four hours day looking watching kids die. figured put vapor compression distiller thing counter flow heat exchanger take waste heat using little bit electricity control process watts little half waste heat make gallons hour distilled water anything comes cool it. put box years could solution transportation electricity communication maybe drnkable water sustainable package weighs pounds know try it. better shut up. \n"
     ]
    }
   ],
   "source": [
    "print(df['transcript'][8])"
   ]
  },
  {
   "cell_type": "markdown",
   "metadata": {},
   "source": [
    "## 3.1 Split into sentences and then paragraphs"
   ]
  },
  {
   "cell_type": "code",
   "execution_count": 65,
   "metadata": {
    "scrolled": true
   },
   "outputs": [
    {
     "name": "stdout",
     "output_type": "stream",
     "text": [
      "['pointed every time come learn something morning world experts guess three four different companies building seats think concluded ultimately solution people sit down could told that yesterday automotive guys gave us new insights pointed believe years today steering cars wire without mechanical stuff reassuring pointed would sort controls wire get rid mechanical stuff pretty good get rid wires need anything control car except thinking it would love talk technology sometime past minutes happy talk techno geeks around here one thing say get first would time started building big idea technology really big idea technology started applying ibot disabled community', ' big idea think new piece solution fairly big problem transportation maybe put perspective much data happy give different forms never know strikes fancy everybody perfectly willing believe car changed world henry ford years ago started cranking model ts think people think context technology applied instance time percent america lived either farms small towns car horseless carriage replaced horse carriage big deal went twice fast horse carriage half long environmental improvement instance outlawed horses buggies downtown manhattan imagine roads look like million horses million urinating things typhoid problems created almost unimaginable car clean environmental alternative horse buggy', ' also way people get farm farm farm town town city made sense percent people living there started connecting towns together lot people claim eighth wonder world highway system certainly wonder way take shots old technologies want assure everybody particularly automotive industry supportive us think way competes airplanes cars think world today percent global population lives cities  billion people solved transportation problems changed world get today', ' years ago sailing ships started getting reliable enough found new continent years ago locomotives got efficient enough steam power turned continent country last hundrd years started building cars years connected every city every city extraordinarily efficient way high standard living consequence that entire process people born people moving cities china alone going move four six hundrd million people cities next decade half nobody think would argue airplanes last years turned continent country neighborhood look technology applied solved long range high speed high volume large weight problems moving things around nobody would want give up certainly would want give airplane helicopter humvee porsche love all', ' keep living room fact last mile problem half world lives dense cities people spend depending percent energy getting around foot think know data would impress percent refined fuel produced world consumed cars metropolitan areas united states three million people die every year cities due bad air almost particulate pollution planet produced transportation devices particularly sitting cities say attack industry think really love airplane cars highways moving miles hour extraordinarily efficient engineering point view energy consumption point view utility point view love cars do problem get city want go four blocks neither fun efficient productive sustainable china year million people used bicycles ', ' million people used cars five percent population became quote middle class wanted go way gone last hundrd years time percent population moving cities size density manhattan every six weeks sustainable environmentally sustainable economically ai enough oil sustainable politically mean fighting right make complicated world fighting right seemed somebody work last mile dumb luck working ibots made instantly decided could great alternative jet skis need water snowmobiles need snow skiing fun people love move around fun things every one industries way golf carts alone multi billion dollar industry', ' rather go license normally seemed put effort technology understanding world solved problems somehow come accept cities right back ancient greece meant walk around cities architected built people footprint solved every transportation problem like moore law mean look time took cross continent conestoga wagon railroad airplane every form transportation improved years gone backwards getting around cities gotten bigger spread out expensive real estate planet every city wilshire boulevard fifth avenue tokyo paris expensive real estate downtowns percent landmass cities parked cars largest cities world wonder cities could give pedestrians take granted go cities could make fun attractive clean environmentally friendly would make little bit palatable access via last link mass transit get cars live suburbs use cars way want cities energized thought would really neat one problems really worried get legal sidewalk technically got motors got wheels motor vehicle look like motor vehicle', ' footprint pedestrian unique capability deal pedestrians crowded space took ground zero knocked way crowds hour pedestrian law typically lags technology generation two get told belong sidewalk two choices recreational vehicle really matter spend time kind stuff maybe street front greyhound bus vehicle concerned went postmaster general united states first person ever showed outside said put people it everybody trusts postman belong sidewalks use seriously agreed', ' went number police departments want police officers back neighborhood beat carrying pounds stuff love it ca believe policeman going give ticket working really really hard knew technology would hard develop attitude important apply technology went found visionary people enough money let us design build things hopefully enough time get accepted happy really happy talk technology much want yes really fun yes go try it could ask one thing think piece technology imagine although understand somehow reasonable use pound machine go miles hour bring everywhere want go somehow also used last mile broken work one exciting things occurred us might get accepted happened california weeks ago launched news crew venice beach zipping back marveling technology meanwhile bicycles zipping skateboarders zipping little old lady mean looked dictionary little old lady came height normal adult stops camera looks says try know going say anything said sure', ' get gets little bit usual ah turns around goes feet turns back around smiles comes back stops says finally made something us camera looking her thinking wow great please lady say another word camera guy put microphone face said mean figured looks says well still watching guys go says ca ride bike says ca use skateboard never used roller blades knew name says years since rode bicycle looks looking says years old drve car anymore still get store ca carry lot things suddenly occurred among many fears bureaucracy regulators legislators might get fundamentally believe pressure among people invade precious little bit space left sidewalks cities look inches legal requirement sidewalk eight foot parked car three lanes eight feet little piece there looks says occurs well kids going mind things vote business people young adults going mind things pretty cool guess subliminally worried older population going worry', ' seen worried eight years first thing pick phone ask marketing regulatory guys call aarp get appointment right away got show thing took washington showed going involved watching things get absorbed number cities like atlanta trials see really fact help energize downtown bottom line whether believe united nations think tanks next years human population growth planet cities asia alone billion people learned start cell phones take year trip took start top technology food chain got start building cities human environments pound person go couple miles dense rich green space environment without pound machine it cars meant parallel parking wonderful machines go cities think solved long range high speed problems', ' greeks went theater dionysus parthenon sandals sneakers much changed thing goes three times fast walking three times minute walk becomes minutes choice living city minutes minutes want alternative whether bus train got build infrastructure light rail going keep parking cars could put pin cities imagine far could time walk one half hour city could make fun make eight minutes ca find car un park car move car park car go somewhere ca get cab subway could change way people allocate resources way planet uses energy make fun hoping extent history say right segway', ' stirling cycle engine confused lot things doing little beast right producing hundrd watts electricity yes could attached yes kilogram propane could drve new york boston choose perhaps interesting little engine burn fuel might skeptical capability impact world ca simply plug volt outlet working actually alternative energy source starting way back johnson johnson run ibot best batteries could get watt hours per kilogram lead watt hours per kilogram nickel cadmium watt hours per kilogram nickel metal hydrde watt hours per kilogram lithium watt hours energy every kilogram propane gasoline nobody drves electric cars event burn efficiency external combustion kitchen stove burn fuel turns pretty neat makes enough electricity instance night enough electricity rest world mr holly dr holly pointed run computers light bulb interestingly thermodynamics say never going get percent efficiency matter much says get watts electricity get watts heat wanted boil water condense rate gallons hour takes little ', ' kilowatt watts continuous power it much energy could afford desalinate clean water country way certainly rest world choice devastate place turning everything burn heat drnk water available number one cause death planet among humans bad water depending whose numbers believe people per day need sophisticated heart transplants around world need water women spend four hours day looking watching kids die figured put vapor compression distiller thing counter flow heat exchanger take waste heat using little bit electricity control process watts little half waste heat make gallons hour distilled water anything comes cool it put box years could solution transportation electricity communication maybe drnkable water sustainable package weighs pounds know try it']\n",
      "14\n"
     ]
    }
   ],
   "source": [
    "def split_text_paragraphs(text, merge_amount):\n",
    "    ls = text.split('.')\n",
    "    paras = []\n",
    "    sample = ''\n",
    "    for index, value in enumerate(ls):\n",
    "        sample += value\n",
    "        if index % merge_amount == 0 and index/merge_amount >= 1:\n",
    "            paras.append(sample)\n",
    "            sample = ''\n",
    "        elif len(ls) == index:\n",
    "            paras.append(sample)\n",
    "    return paras\n",
    "sample = split_text_paragraphs(df['transcript'][8], 10)\n",
    "print(sample)\n",
    "print(len(sample))"
   ]
  },
  {
   "cell_type": "markdown",
   "metadata": {},
   "source": [
    "# 4. Perform K Means"
   ]
  },
  {
   "cell_type": "code",
   "execution_count": 66,
   "metadata": {},
   "outputs": [
    {
     "name": "stdout",
     "output_type": "stream",
     "text": [
      "robots,cars,industrial design,transportation,invention,education,innovation,social change,science,sustainability,technology,business\n"
     ]
    }
   ],
   "source": [
    "vectorizer = TfidfVectorizer(stop_words='english')\n",
    "X = vectorizer.fit_transform(sample)\n",
    "print(df['tags'][8])\n",
    "'''\n",
    "robots,cars,industrial design,transportation,invention,education,innovation,social change,science,sustainability,technology,business\n",
    "\n",
    "transport: cars\n",
    "industrial design:\n",
    "innovation: invention, technology, robots, science\n",
    "education:\n",
    "sustainability:\n",
    "social change:\n",
    "business: \n",
    "'''"
   ]
  },
  {
   "cell_type": "code",
   "execution_count": 73,
   "metadata": {},
   "outputs": [
    {
     "name": "stdout",
     "output_type": "stream",
     "text": [
      "Top terms per cluster:\n",
      "Cluster 0:\n",
      " says,  looks,  little,  zipping,  going,  technology,  ca,  things,  lady,  camera, \n",
      "\n",
      "Cluster 1:\n",
      " people,  farm,  efficient,  cities,  think,  point,  view,  world,  city,  high, \n",
      "\n",
      "Cluster 2:\n",
      " water,  kilogram,  electricity,  heat,  hours,  watts,  watt,  burn,  little,  waste, \n",
      "\n",
      "Cluster 3:\n",
      " cities,  minutes,  make,  got,  start,  car,  walk,  took,  cars,  times, \n",
      "\n",
      "Cluster 4:\n",
      " big,  carriage,  horse,  pointed,  car,  idea,  technology,  started,  rid,  wire, \n",
      "\n",
      "Cluster 5:\n",
      " sustainable,  fighting,  need,  population,  right,  fun,  percent,  way,  complicated,  middle, \n",
      "\n",
      "Cluster 6:\n",
      " belong,  pedestrian,  vehicle,  zero,  seriously,  street,  concerned,  greyhound,  ground,  general, \n",
      "\n",
      "\n",
      "\n",
      "[2]\n"
     ]
    }
   ],
   "source": [
    "true_k = 7\n",
    "model = KMeans(n_clusters=true_k, init='k-means++', max_iter=100, n_init=1)\n",
    "model.fit(X)\n",
    "\n",
    "print(\"Top terms per cluster:\")\n",
    "order_centroids = model.cluster_centers_.argsort()[:, ::-1]\n",
    "# print(order_centroids)\n",
    "terms = vectorizer.get_feature_names()\n",
    "# print(terms)\n",
    "for i in range(true_k):\n",
    "    print(\"Cluster %d:\" % i),\n",
    "    for ind in order_centroids[i, :10]:\n",
    "        print(' %s' % terms[ind] + ', ', end = ''),\n",
    "    print(\"\\n\")\n",
    "\n",
    "print(\"\\n\")\n",
    "# print(\"Prediction\")\n",
    "\n",
    "Y = vectorizer.transform([\"stirling cycle engine confused lot things doing little beast right producing hundrd watts electricity yes could attached yes kilogram propane could drve new york boston choose perhaps interesting little engine burn fuel might skeptical capability impact world ca simply plug volt outlet working actually alternative energy source starting way back johnson johnson run ibot best batteries could get watt hours per kilogram lead watt hours per kilogram nickel cadmium watt hours per kilogram nickel metal hydrde watt hours per kilogram lithium watt hours energy every kilogram propane gasoline nobody drves electric cars\"])\n",
    "prediction = model.predict(Y)\n",
    "print(prediction)\n",
    "\n",
    "# Y = vectorizer.transform([\"My cat is hungry.\"])\n",
    "# prediction = model.predict(Y)\n",
    "# print(prediction)"
   ]
  },
  {
   "cell_type": "code",
   "execution_count": null,
   "metadata": {},
   "outputs": [],
   "source": []
  }
 ],
 "metadata": {
  "kernelspec": {
   "display_name": "Python 3",
   "language": "python",
   "name": "python3"
  },
  "language_info": {
   "codemirror_mode": {
    "name": "ipython",
    "version": 3
   },
   "file_extension": ".py",
   "mimetype": "text/x-python",
   "name": "python",
   "nbconvert_exporter": "python",
   "pygments_lexer": "ipython3",
   "version": "3.7.3"
  }
 },
 "nbformat": 4,
 "nbformat_minor": 2
}
