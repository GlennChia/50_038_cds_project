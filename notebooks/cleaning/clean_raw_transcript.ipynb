{
 "cells": [
  {
   "cell_type": "code",
   "execution_count": 1,
   "metadata": {
    "scrolled": true
   },
   "outputs": [],
   "source": [
    "# !pip install -U spaCy\n",
    "# !python -m spacy download en\n",
    "# !python -m spacy download en_core_web_sm\n",
    "# !pip install contractions\n",
    "# !pip install inflect"
   ]
  },
  {
   "cell_type": "code",
   "execution_count": 2,
   "metadata": {},
   "outputs": [],
   "source": [
    "import pandas as pd\n",
    "import spacy\n",
    "import string\n",
    "import re\n",
    "import unicodedata\n",
    "import inflect\n",
    "import contractions\n",
    "\n",
    "from nltk.corpus import stopwords as sw_nltk\n",
    "from nltk.tokenize import ToktokTokenizer\n",
    "from nltk.stem.wordnet import WordNetLemmatizer\n",
    "from sklearn.feature_extraction import stop_words as sw_sklearn\n",
    "from spacy.lang.en.stop_words import STOP_WORDS as sw_spacy\n",
    "from gensim.parsing.preprocessing import remove_stopwords as sw_gensim"
   ]
  },
  {
   "cell_type": "code",
   "execution_count": 3,
   "metadata": {},
   "outputs": [],
   "source": [
    "nlp = spacy.load('en')\n",
    "token=ToktokTokenizer()"
   ]
  },
  {
   "cell_type": "code",
   "execution_count": 24,
   "metadata": {},
   "outputs": [],
   "source": [
    "DATA_DIR = \"../../data/raw/\"\n",
    "INPUT_FILE_NAME = 'subset_raw.parquet'\n",
    "OUTPUT_FILE_NAME = 'cleaned.parquet'"
   ]
  },
  {
   "cell_type": "code",
   "execution_count": 5,
   "metadata": {},
   "outputs": [],
   "source": [
    "df = pd.read_parquet(DATA_DIR + INPUT_FILE_NAME)"
   ]
  },
  {
   "cell_type": "markdown",
   "metadata": {},
   "source": [
    "## Here is what we need to clean\n",
    "1. Lower case [DONE]\n",
    "2. Abbreviations (unnecessary?)\n",
    "3. Numbers [DONE]\n",
    "4. Contractions (unnecessary?) [DONE]\n",
    "5. All punctuations [DONE]\n",
    "6. Weird symbols (accounted for w/ punctuations)\n",
    "7. Stop words (gensim) [DONE]\n",
    "\n",
    "TOKENISATION\n",
    "\n",
    "\n",
    "7. Stop words (nltk, sklearn, spacy) [DONE]\n",
    "8. Stemming (unnecessary due to Lemmatization)\n",
    "9. Lemmatization"
   ]
  },
  {
   "cell_type": "code",
   "execution_count": 6,
   "metadata": {},
   "outputs": [],
   "source": [
    "def remove_whitespaces(input_string):\n",
    "    result = input_string.strip()\n",
    "    return result"
   ]
  },
  {
   "cell_type": "code",
   "execution_count": 7,
   "metadata": {},
   "outputs": [],
   "source": [
    "def convert_lower(input_string):\n",
    "    return input_string.lower()"
   ]
  },
  {
   "cell_type": "code",
   "execution_count": 8,
   "metadata": {},
   "outputs": [],
   "source": [
    "def replace_contractions(input_string):\n",
    "    return contractions.fix(input_string)\n",
    "#only replaces common contractions\n",
    "#is it truly necessary considering removal of stopwords?"
   ]
  },
  {
   "cell_type": "code",
   "execution_count": 9,
   "metadata": {},
   "outputs": [],
   "source": [
    "def remove_non_ascii_token(tokens):\n",
    "    result = []\n",
    "    for word in tokens:\n",
    "        new_word = unicodedata.normalize('NFKD', word).encode('ascii', 'ignore')\n",
    "        result.append(new_word)\n",
    "    return result"
   ]
  },
  {
   "cell_type": "code",
   "execution_count": 10,
   "metadata": {},
   "outputs": [],
   "source": [
    "def remove_numbers(input_string):\n",
    "    result = re.sub(r'\\d+','',input_string)\n",
    "    return result\n",
    "\n",
    "def replace_numbers_token(tokens): #unnecessary for tagging, better to just remove?\n",
    "    p = inflect.engine()\n",
    "    result = []\n",
    "    for word in tokens:\n",
    "        if word.isdigit():\n",
    "            new_word = p.number_to_words(word)\n",
    "            results.append(new_word)\n",
    "        else:\n",
    "            results.append(word)\n",
    "    return result"
   ]
  },
  {
   "cell_type": "code",
   "execution_count": 11,
   "metadata": {},
   "outputs": [],
   "source": [
    "punctuations = string.punctuation\n",
    "def remove_punctuations(input_string):\n",
    "    result = input_string\n",
    "    for i in punctuations:\n",
    "        result = result.replace(i,'')\n",
    "    return result\n",
    "\n",
    "def remove_punctuations_token(tokens):\n",
    "    result = []\n",
    "    for word in tokens:\n",
    "        new_word = re.sub(r'[^\\w\\s])','',word)\n",
    "        result.append(new_word)\n",
    "    return result"
   ]
  },
  {
   "cell_type": "code",
   "execution_count": 12,
   "metadata": {},
   "outputs": [],
   "source": [
    "def remove_sw_string(input_string):\n",
    "    result = sw_gensim(input_string)\n",
    "    return result\n",
    "\n",
    "def remove_sw_token(tokens):\n",
    "    \n",
    "    #nltk stop words\n",
    "    nltkStopWords=sw_nltk.words('english')\n",
    "\n",
    "    #sklearn stop words\n",
    "    sets=[sw_sklearn.ENGLISH_STOP_WORDS]\n",
    "    sklearnStopWords = [list(x) for x in sets][0]\n",
    "\n",
    "    ##COMBINE NLTK & SKLEARN STOP WORDS\n",
    "    allStopWords = nltkStopWords + sklearnStopWords\n",
    "    allStopWords = list(dict.fromkeys(allStopWords)) #remove repeats\n",
    "\n",
    "    after_nltk_sklearn = [i for i in tokens if not i in allStopWords]\n",
    "    \n",
    "    result = []\n",
    "    for word in after_nltk_sklearn:\n",
    "        lexeme = nlp.vocab[word]\n",
    "        if lexeme.is_stop == False:\n",
    "            result.append(word)\n",
    "    return result\n",
    "    "
   ]
  },
  {
   "cell_type": "code",
   "execution_count": 13,
   "metadata": {
    "scrolled": true
   },
   "outputs": [],
   "source": [
    "#do after removal of stopwords\n",
    "def lemmatize_token(tokens):\n",
    "    lemma = WordNetLemmatizer()\n",
    "    result = []\n",
    "    for w in tokens:\n",
    "        w1 = lemma.lemmatize(w, pos = 'n')\n",
    "        w2 = lemma.lemmatize(w1, pos = 'v')\n",
    "        w3 = lemma.lemmatize(w2, pos = ('a'))\n",
    "        result.append(w3)\n",
    "    return result\n",
    "#spacy can also lemmatize on tokens in doc"
   ]
  },
  {
   "cell_type": "code",
   "execution_count": 14,
   "metadata": {},
   "outputs": [],
   "source": [
    "def data_specific_cleaning_token(tokens):\n",
    "    result = []\n",
    "    for word in tokens:\n",
    "        if word != 'applause' and word != 'laughter':\n",
    "            result.append(word)\n",
    "    return result"
   ]
  },
  {
   "cell_type": "code",
   "execution_count": 15,
   "metadata": {},
   "outputs": [],
   "source": [
    "def combined_cleaning(input_string):\n",
    "    text = remove_whitespaces(input_string)\n",
    "    text = convert_lower(text)\n",
    "    text = replace_contractions(text)\n",
    "    text = remove_numbers(text)\n",
    "    text = remove_punctuations(text)\n",
    "    text = remove_sw_string(text)\n",
    "    \n",
    "    tokens = token.tokenize(text)\n",
    "    \n",
    "    tokens = remove_sw_token(tokens)\n",
    "    tokens = lemmatize_token(tokens)\n",
    "    tokens = data_specific_cleaning_token(tokens)\n",
    "    \n",
    "\n",
    "    return tokens"
   ]
  },
  {
   "cell_type": "code",
   "execution_count": 17,
   "metadata": {},
   "outputs": [],
   "source": [
    "# drop rows with empty transcripts\n",
    "df = df.dropna(subset=['transcript'])\n",
    "df = df.reset_index(drop=True)\n",
    "\n",
    "df['transcript'] = df['transcript'].map(lambda x: combined_cleaning(x) )"
   ]
  },
  {
   "cell_type": "code",
   "execution_count": 25,
   "metadata": {},
   "outputs": [],
   "source": [
    "df.to_parquet(DATA_DIR + OUTPUT_FILE_NAME)"
   ]
  },
  {
   "cell_type": "code",
   "execution_count": null,
   "metadata": {},
   "outputs": [],
   "source": []
  }
 ],
 "metadata": {
  "kernelspec": {
   "display_name": "Python 3",
   "language": "python",
   "name": "python3"
  },
  "language_info": {
   "codemirror_mode": {
    "name": "ipython",
    "version": 3
   },
   "file_extension": ".py",
   "mimetype": "text/x-python",
   "name": "python",
   "nbconvert_exporter": "python",
   "pygments_lexer": "ipython3",
   "version": "3.7.1"
  }
 },
 "nbformat": 4,
 "nbformat_minor": 2
}
