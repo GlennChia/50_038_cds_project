{
 "cells": [
  {
   "cell_type": "code",
   "execution_count": null,
   "metadata": {},
   "outputs": [],
   "source": [
    "import pandas as pd\n",
    "import gensim"
   ]
  },
  {
   "cell_type": "code",
   "execution_count": null,
   "metadata": {},
   "outputs": [],
   "source": [
    "DATA_DIR = \"../../data/raw/\"\n",
    "INPUT_FILE_NAME = 'cleaned.parquet'\n",
    "OUTPUT_FILE_NAME = 'cleaned_squashed.parquet'"
   ]
  },
  {
   "cell_type": "code",
   "execution_count": null,
   "metadata": {},
   "outputs": [],
   "source": [
    "df = pd.read_parquet(DATA_DIR + INPUT_FILE_NAME)\n",
    "df.head()"
   ]
  },
  {
   "cell_type": "code",
   "execution_count": null,
   "metadata": {},
   "outputs": [],
   "source": [
    "tags = df['tags'].str.replace(', ', ',').str.lower().str.strip()\n",
    "split_tags = tags.str.split(',')\n",
    "tag_counts_per_talk = split_tags.apply(len)\n",
    "\n",
    "joined_tags = tags.str.cat(sep=',').split(',')\n",
    "all_tags_w_dup = pd.Series(joined_tags)\n",
    "\n",
    "tag_counts = all_tags_w_dup.value_counts()\n"
   ]
  },
  {
   "cell_type": "code",
   "execution_count": null,
   "metadata": {},
   "outputs": [],
   "source": [
    "print(tag_counts)"
   ]
  },
  {
   "cell_type": "code",
   "execution_count": null,
   "metadata": {},
   "outputs": [],
   "source": [
    "tag_documents = tags.str.cat(sep='_').split('_')\n",
    "def tokenise(documents):\n",
    "    for string in documents:\n",
    "        yield gensim.utils.simple_preprocess(string)\n",
    "tag_documents = list(tokenise(tag_documents))\n",
    "\n",
    "transcript_documents = df['clean_transcript'].map(lambda x: x.tolist())\n",
    "transcript_documents = list(transcript_documents)"
   ]
  },
  {
   "cell_type": "code",
   "execution_count": null,
   "metadata": {},
   "outputs": [],
   "source": [
    "tag_model = gensim.models.Word2Vec(tag_documents,size=150,window=5,min_count=2,workers=4)\n",
    "tag_model.train(tag_documents,total_examples=len(tag_documents),epochs=10)\n",
    "\n",
    "transcript_model = gensim.models.Word2Vec(transcript_documents,size=150,window=5,min_count=2,workers=4)\n",
    "transcript_model.train(transcript_documents,total_examples=len(transcript_documents),epochs=10)"
   ]
  },
  {
   "cell_type": "code",
   "execution_count": null,
   "metadata": {},
   "outputs": [],
   "source": [
    "from sklearn.manifold import TSNE\n",
    "import matplotlib.pyplot as plt\n",
    "%matplotlib inline\n",
    "\n",
    "def tsne_plot(model,squash):\n",
    "    \"Creates and TSNE model and plots it\"\n",
    "    labels = []\n",
    "    tokens = []\n",
    "    \n",
    "    count = 0\n",
    "    for word in model.wv.vocab:\n",
    "        # TODO get the labels\n",
    "        if squash:\n",
    "            if word in squash_list:\n",
    "                tokens.append(model[word])\n",
    "                labels.append(word)    \n",
    "        else:\n",
    "            tokens.append(model[word])\n",
    "            labels.append(word)\n",
    "\n",
    "\n",
    "    # set the t-sne values\n",
    "    tsne_model = TSNE(perplexity=40, n_components=2, init='pca', n_iter=3500, random_state=32)\n",
    "    new_values = tsne_model.fit_transform(tokens)\n",
    "    # TODO fit the t-sne model\n",
    "\n",
    "    x = []\n",
    "    y = []\n",
    "    for value in new_values:\n",
    "        x.append(value[0])\n",
    "        y.append(value[1])\n",
    "        \n",
    "    plt.figure(figsize=(16, 16)) \n",
    "    for i in range(len(x)):\n",
    "        plt.scatter(x[i],y[i])\n",
    "        plt.annotate(labels[i],\n",
    "                     xy=(x[i], y[i]),\n",
    "                     xytext=(5, 2),\n",
    "                     textcoords='offset points',\n",
    "                     ha='right',\n",
    "                     va='bottom')\n",
    "    plt.show()"
   ]
  },
  {
   "cell_type": "code",
   "execution_count": null,
   "metadata": {},
   "outputs": [],
   "source": [
    "tag_cutoff = int(0.01*len(df.index))\n",
    "\n",
    "squashed_tags = pd.DataFrame(tag_counts)\n",
    "squashed_tags = squashed_tags[(squashed_tags[0]>tag_cutoff)]\n",
    "squash_list = list(squashed_tags.index.values)\n"
   ]
  },
  {
   "cell_type": "code",
   "execution_count": null,
   "metadata": {},
   "outputs": [],
   "source": [
    "print(squashed_tags)"
   ]
  },
  {
   "cell_type": "code",
   "execution_count": null,
   "metadata": {},
   "outputs": [],
   "source": [
    "def squashing (x):\n",
    "    original_tags = x\n",
    "    tags = original_tags.replace(', ', ',').lower().strip()\n",
    "    split_tags = tags.split(',')\n",
    "    final_tags = []\n",
    "    for tag in split_tags:\n",
    "        if tag in squash_list:\n",
    "            final_tags.append(tag)\n",
    "    final_string = ','.join(final_tags)\n",
    "    return final_string"
   ]
  },
  {
   "cell_type": "code",
   "execution_count": null,
   "metadata": {},
   "outputs": [],
   "source": [
    "df['squash_tags'] = df['tags']\n",
    "df['squash_tags'] = df['squash_tags'].map(lambda x: squashing(x))\n",
    "# df.to_parquet(DATA_DIR+OUTPUT_FILE_NAME)"
   ]
  },
  {
   "cell_type": "code",
   "execution_count": null,
   "metadata": {},
   "outputs": [],
   "source": [
    "# df[df['squash_tags']=='']\n",
    "print(0.3*len(df))"
   ]
  },
  {
   "cell_type": "code",
   "execution_count": null,
   "metadata": {},
   "outputs": [],
   "source": [
    "squash_tags = df['squash_tags'].str.replace(', ', ',').str.lower().str.strip()\n",
    "squash_tag_documents = squash_tags.str.cat(sep='_').split('_')\n",
    "squash_tag_documents = list(tokenise(squash_tag_documents))\n",
    "\n",
    "squash_tag_model = gensim.models.Word2Vec(squash_tag_documents,size=150,window=5,min_count=2,workers=4)\n",
    "squash_tag_model.train(squash_tag_documents,total_examples=len(tag_documents),epochs=10)\n"
   ]
  },
  {
   "cell_type": "code",
   "execution_count": null,
   "metadata": {},
   "outputs": [],
   "source": [
    "tsne_plot(tag_model,False)\n",
    "tsne_plot(tag_model,True)"
   ]
  },
  {
   "cell_type": "code",
   "execution_count": null,
   "metadata": {
    "scrolled": true
   },
   "outputs": [],
   "source": [
    "tsne_plot(squash_tag_model,True)"
   ]
  }
 ],
 "metadata": {
  "kernelspec": {
   "display_name": "Python 3",
   "language": "python",
   "name": "python3"
  },
  "language_info": {
   "codemirror_mode": {
    "name": "ipython",
    "version": 3
   },
   "file_extension": ".py",
   "mimetype": "text/x-python",
   "name": "python",
   "nbconvert_exporter": "python",
   "pygments_lexer": "ipython3",
   "version": "3.7.1"
  }
 },
 "nbformat": 4,
 "nbformat_minor": 4
}
