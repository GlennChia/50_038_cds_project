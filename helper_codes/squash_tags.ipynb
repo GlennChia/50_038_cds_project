{
 "cells": [
  {
   "cell_type": "code",
   "execution_count": 25,
   "metadata": {},
   "outputs": [],
   "source": [
    "'''\n",
    "1. Numbers\n",
    "2. Apostrophe\n",
    "3. All punctuations\n",
    "4. Weird symbols\n",
    "5. Stop words\n",
    "6. lemmatization\n",
    "'''\n",
    "import numpy as np\n",
    "import pandas as pd\n",
    "import string\n",
    "from nltk.corpus import stopwords\n",
    "from nltk.tokenize import ToktokTokenizer\n",
    "from sklearn.feature_extraction import stop_words\n",
    "from nltk.stem.wordnet import WordNetLemmatizer\n",
    "sets=[stop_words.ENGLISH_STOP_WORDS]\n",
    "sklearnStopWords = [list(x) for x in sets][0]\n",
    "token=ToktokTokenizer()\n",
    "lemma=WordNetLemmatizer()\n",
    "stopWordList=stopwords.words('english')\n",
    "stopWords = stopWordList + sklearnStopWords\n",
    "stopWords = list(dict.fromkeys(stopWords))\n",
    "\n",
    "file_name = 'TED_Transcripts_short.csv'\n",
    "df = pd.read_csv('C:/Users/JSaw/Desktop/50.038/TED_Talks_by_ID_plus-transcripts-and-LIWC-and-MFT-plus-views.csv')\n",
    "df = df.dropna(subset=['transcript'])\n",
    "df = df.reset_index(drop=True)\n",
    "\n",
    "def stopWordsRemove(text):\n",
    "    wordList=[x.lower().strip() for x in token.tokenize(text)]\n",
    "    removedList=[x + ' ' for x in wordList if not x in stopWords]\n",
    "    text=''.join(removedList)\n",
    "    return text\n",
    "\n",
    "\n",
    "def lemitizeWords(text):\n",
    "    words=token.tokenize(text)\n",
    "    listLemma=[]\n",
    "    for w in words:\n",
    "        x=lemma.lemmatize(w,'v')\n",
    "        listLemma.append(x)\n",
    "    return text\n",
    "\n",
    "\n",
    "# There is a mispelt word that needs to be replaced\n",
    "df['transcript'] = df['transcript'].str.replace('\\r',' ')\n",
    "df['transcript'] = df['transcript'].str.replace(\"\\'s\",\" is\")\n",
    "df['transcript'] = df['transcript'].str.replace(\"\\'m\",\" am\")\n",
    "df['transcript'] = df['transcript'].str.replace(\"\\'ll\",\" will\")\n",
    "df['transcript'] = df['transcript'].str.replace(\"Can\\'t\",\"cannot\")\n",
    "df['transcript'] = df['transcript'].str.replace(\"Sha\\'t\",\"shall not\")\n",
    "df['transcript'] = df['transcript'].str.replace(\"Won\\'t\",\"would not\")\n",
    "df['transcript'] = df['transcript'].str.replace(\"n\\'t\",\" not\")\n",
    "df['transcript'] = df['transcript'].str.replace(\"\\'ve\",\" have\")\n",
    "df['transcript'] = df['transcript'].str.replace(\"\\'re\",\" are\")\n",
    "df['transcript'] = df['transcript'].str.replace(\"\\'d\",\" would\")\n",
    "df['transcript'] = df['transcript'].str.replace(r\"\\(([^)]+)\\)\",\"\")\n",
    "# # Deal with Mr. and Dr.\n",
    "# df['transcript'] = df['transcript'].str.replace(\"mr.\",\"mr\")\n",
    "# df['transcript'] = df['transcript'].str.replace(\"Mr.\",\"mr\")\n",
    "# df['transcript'] = df['transcript'].str.replace(\"mrs.\",\"mrs\")\n",
    "# df['transcript'] = df['transcript'].str.replace(\"Mrs.\",\"mrs\")\n",
    "# df['transcript'] = df['transcript'].str.replace(\"Dr.\",\"dr\")\n",
    "# df['transcript'] = df['transcript'].str.replace(\"dr.\",\"dr\")\n",
    "# df['transcript'] = df['transcript'].str.replace(\"childrn\",\"children\")\n",
    "# df['transcript'] = df['transcript'].str.replace(r'\\d+','')\n",
    "# df['transcript'] = df['transcript'].str.replace(r'<.*?>','')\n",
    "for i in string.punctuation:\n",
    "    if i == \"'\":\n",
    "        df['transcript'] = df['transcript'].str.replace(i,'')\n",
    "    else:\n",
    "        df['transcript'] = df['transcript'].str.replace(i,' ')\n",
    "df['transcript'] = df['transcript'].map(lambda com : stopWordsRemove(com))\n",
    "df['transcript'] = df['transcript'].map(lambda com : lemitizeWords(com))\n",
    "df['transcript'] = df['transcript'].str.replace('\\s+',' ')\n"
   ]
  },
  {
   "cell_type": "code",
   "execution_count": 26,
   "metadata": {},
   "outputs": [
    {
     "data": {
      "text/plain": [
       "'cars,alternative energy,culture,politics,science,climate change,environment,sustainability,global issues,technology'"
      ]
     },
     "execution_count": 26,
     "metadata": {},
     "output_type": "execute_result"
    }
   ],
   "source": [
    "df['tags'][0]"
   ]
  },
  {
   "cell_type": "code",
   "execution_count": 27,
   "metadata": {},
   "outputs": [
    {
     "name": "stdout",
     "output_type": "stream",
     "text": [
      "23\n",
      "179\n"
     ]
    }
   ],
   "source": [
    "tags = df['tags'].str.replace(', ', ',').str.lower().str.strip()\n",
    "split_tags = tags.str.split(',')\n",
    "tag_counts_per_talk = split_tags.apply(len)\n",
    "\n",
    "joined_tags = tags.str.cat(sep=',').split(',')\n",
    "all_tags_w_dup = pd.Series(joined_tags)\n",
    "\n",
    "tag_counts = all_tags_w_dup.value_counts()\n",
    "\n",
    "# df['tags'] = split_tags\n",
    "\n",
    "tag_cutoff = int(0.01*len(df.index))\n",
    "print(tag_cutoff)\n",
    "squashed_tags = pd.DataFrame(tag_counts)\n",
    "# squashed_tags.columns = ['tag','count']\n",
    "squashed_tags = squashed_tags[(squashed_tags[0]>tag_cutoff)]\n",
    "squash_list = list(squashed_tags.index.values)\n",
    "print(len(squash_list))"
   ]
  },
  {
   "cell_type": "code",
   "execution_count": 30,
   "metadata": {},
   "outputs": [
    {
     "name": "stderr",
     "output_type": "stream",
     "text": [
      "C:\\Users\\JSaw\\Anaconda3\\lib\\site-packages\\ipykernel_launcher.py:10: SettingWithCopyWarning: \n",
      "A value is trying to be set on a copy of a slice from a DataFrame\n",
      "\n",
      "See the caveats in the documentation: http://pandas.pydata.org/pandas-docs/stable/indexing.html#indexing-view-versus-copy\n",
      "  # Remove the CWD from sys.path while we load stuff.\n"
     ]
    }
   ],
   "source": [
    "for i in range(len(df.index)):\n",
    "    original_tags = df['tags'][i]\n",
    "    tags = original_tags.replace(', ', ',').lower().strip()\n",
    "    split_tags = tags.split(',')\n",
    "    final_tags = []\n",
    "    for tag in split_tags:\n",
    "        if tag in squash_list:\n",
    "            final_tags.append(tag)\n",
    "    final_string = ','.join(final_tags)\n",
    "    df['tags'][i] = final_string"
   ]
  },
  {
   "cell_type": "code",
   "execution_count": 35,
   "metadata": {},
   "outputs": [
    {
     "data": {
      "text/html": [
       "<div>\n",
       "<style scoped>\n",
       "    .dataframe tbody tr th:only-of-type {\n",
       "        vertical-align: middle;\n",
       "    }\n",
       "\n",
       "    .dataframe tbody tr th {\n",
       "        vertical-align: top;\n",
       "    }\n",
       "\n",
       "    .dataframe thead th {\n",
       "        text-align: right;\n",
       "    }\n",
       "</style>\n",
       "<table border=\"1\" class=\"dataframe\">\n",
       "  <thead>\n",
       "    <tr style=\"text-align: right;\">\n",
       "      <th></th>\n",
       "      <th>id</th>\n",
       "      <th>speaker</th>\n",
       "      <th>headline</th>\n",
       "      <th>URL</th>\n",
       "      <th>description</th>\n",
       "      <th>transcript_URL</th>\n",
       "      <th>month_filmed</th>\n",
       "      <th>year_filmed</th>\n",
       "      <th>event</th>\n",
       "      <th>duration</th>\n",
       "      <th>...</th>\n",
       "      <th>harm_vice</th>\n",
       "      <th>fairness_virtue</th>\n",
       "      <th>fairness_vice</th>\n",
       "      <th>ingroup_virtue</th>\n",
       "      <th>ingroup_vice</th>\n",
       "      <th>authority_virtue</th>\n",
       "      <th>authority_vice</th>\n",
       "      <th>purity_virtue</th>\n",
       "      <th>purity_vice</th>\n",
       "      <th>morality_general</th>\n",
       "    </tr>\n",
       "  </thead>\n",
       "  <tbody>\n",
       "  </tbody>\n",
       "</table>\n",
       "<p>0 rows × 123 columns</p>\n",
       "</div>"
      ],
      "text/plain": [
       "Empty DataFrame\n",
       "Columns: [id, speaker, headline, URL, description, transcript_URL, month_filmed, year_filmed, event, duration, date_published, views_as_of_06162017, tags, transcript, notes, WC, Analytic, Clout, Authentic, Tone, WPS, Sixltr, Dic, function, pronoun, ppron, i, we, you, shehe, they, ipron, article, prep, auxverb, adverb, conj, negate, verb, adj, compare, interrog, number, quant, affect, posemo, negemo, anx, anger, sad, social, family, friend, female, male, cogproc, insight, cause, discrep, tentat, certain, differ, percept, see, hear, feel, bio, body, health, sexual, ingest, drives, affiliation, achieve, power, reward, risk, focuspast, focuspresent, focusfuture, relativ, motion, space, time, work, leisure, home, money, relig, death, informal, swear, netspeak, assent, nonflu, filler, AllPunc, Period, Comma, Colon, ...]\n",
       "Index: []\n",
       "\n",
       "[0 rows x 123 columns]"
      ]
     },
     "execution_count": 35,
     "metadata": {},
     "output_type": "execute_result"
    }
   ],
   "source": [
    "df[df['tags']=='']"
   ]
  },
  {
   "cell_type": "code",
   "execution_count": 32,
   "metadata": {},
   "outputs": [],
   "source": [
    "df.to_pickle(\"./squashed_processed_data.pkl\")"
   ]
  },
  {
   "cell_type": "code",
   "execution_count": 36,
   "metadata": {},
   "outputs": [
    {
     "data": {
      "text/plain": [
       "0       alternative energy,culture,politics,science,cl...\n",
       "1       industrial design,alternative energy,invention...\n",
       "2       poverty,economics,investment,culture,politics,...\n",
       "3       industrial design,invention,engineering,entrep...\n",
       "4       industrial design,transportation,invention,des...\n",
       "5       biotech,invention,oceans,genetics,dna,biology,...\n",
       "6       computers,software,interface design,music,medi...\n",
       "7       death,culture,architecture,cities,urban planni...\n",
       "8       robots,industrial design,transportation,invent...\n",
       "9       disease,health,health care,culture,food,scienc...\n",
       "10      africa,culture,science,environment,animals,nat...\n",
       "11               cancer,disease,health,science,technology\n",
       "12      invention,culture,architecture,design,creativi...\n",
       "13      invention,software,music,entertainment,perform...\n",
       "14      love,gender,relationships,cognitive science,ps...\n",
       "15      dna,evolution,biology,fish,science,environment...\n",
       "16      philosophy,evolution,culture,choice,history,sc...\n",
       "17      economics,culture,media,food,choice,storytelli...\n",
       "18      software,culture,design,entertainment,storytel...\n",
       "19           faith,culture,religion,science,entertainment\n",
       "20      ted brain trust,film,culture,music,activism,so...\n",
       "21      open-source,education,culture,global issues,te...\n",
       "22      love,poetry,philosophy,culture,entertainment,p...\n",
       "23      industrial design,invention,product design,sci...\n",
       "24      ted brain trust,culture,choice,storytelling,bu...\n",
       "25                 race,economics,culture,cities,business\n",
       "26      transportation,statistics,economics,culture,pa...\n",
       "27           invention,culture,architecture,cities,design\n",
       "28                                  design,creativity,art\n",
       "29      terrorism,culture,war,global issues,technology...\n",
       "                              ...                        \n",
       "2356    media,gender,love,relationships,race,parenting...\n",
       "2357    genetics,disease,health,aging,biomechanics,men...\n",
       "2358    global issues,politics,web,internet,government...\n",
       "2359    environment,science,technology,design,engineer...\n",
       "2360    education,social change,children,leadership,in...\n",
       "2361    climate change,environment,oceans,animals,biod...\n",
       "2362    culture,performance,creativity,history,languag...\n",
       "2363    death,health,health care,cancer,relationships,...\n",
       "2364    genetics,nature,biology,war,motivation,brain,v...\n",
       "2365    entertainment,music,art,love,aging,happiness,s...\n",
       "2366    science,technology,computers,innovation,robots...\n",
       "2367    oceans,animals,nature,biodiversity,water,chemi...\n",
       "2368    tedx,children,community,education,health,paren...\n",
       "2369    big problems,business,climate change,economics...\n",
       "2370    economics,work,money,policy,social change,ineq...\n",
       "2371    africa,mental health,identity,community,person...\n",
       "2372    ai,algorithm,computers,data,future,innovation,...\n",
       "2373    community,health,humanity,leadership,personal ...\n",
       "2374    africa,ted prize,collaboration,disease,educati...\n",
       "2375    politics,social change,future,history,activism...\n",
       "2376    music,performance,collaboration,communication,...\n",
       "2377    environment,global issues,science,technology,b...\n",
       "2378    activism,crime,humanity,identity,personal grow...\n",
       "2379                             history,live music,music\n",
       "2380    internet,communication,democracy,identity,inte...\n",
       "2381    architecture,beauty,cities,community,journalis...\n",
       "2382    ai,algorithm,brain,cognitive science,mental he...\n",
       "2383    choice,fear,goal-setting,humanity,life,persona...\n",
       "2384    aging,art,beauty,books,communication,family,hu...\n",
       "2385    adventure,collaboration,demo,design,engineerin...\n",
       "Name: tags, Length: 2386, dtype: object"
      ]
     },
     "execution_count": 36,
     "metadata": {},
     "output_type": "execute_result"
    }
   ],
   "source": [
    "df['tags']"
   ]
  },
  {
   "cell_type": "code",
   "execution_count": null,
   "metadata": {},
   "outputs": [],
   "source": []
  }
 ],
 "metadata": {
  "kernelspec": {
   "display_name": "Python 3",
   "language": "python",
   "name": "python3"
  },
  "language_info": {
   "codemirror_mode": {
    "name": "ipython",
    "version": 3
   },
   "file_extension": ".py",
   "mimetype": "text/x-python",
   "name": "python",
   "nbconvert_exporter": "python",
   "pygments_lexer": "ipython3",
   "version": "3.7.1"
  }
 },
 "nbformat": 4,
 "nbformat_minor": 2
}
