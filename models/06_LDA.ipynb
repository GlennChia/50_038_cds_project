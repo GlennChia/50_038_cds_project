{
 "cells": [
  {
   "cell_type": "code",
   "execution_count": null,
   "metadata": {},
   "outputs": [],
   "source": [
    "import numpy as np \n",
    "import pandas as pd \n",
    "import matplotlib.pyplot as plt\n",
    "import seaborn as sns\n",
    "from time import time"
   ]
  },
  {
   "cell_type": "code",
   "execution_count": null,
   "metadata": {},
   "outputs": [],
   "source": [
    "df = pd.read_pickle('../helper_codes/squashed_processed_data.pkl')"
   ]
  },
  {
   "cell_type": "code",
   "execution_count": null,
   "metadata": {},
   "outputs": [],
   "source": [
    "from sklearn.feature_extraction.text import TfidfVectorizer\n",
    "vectorizer = TfidfVectorizer(stop_words=\"english\",\n",
    "                        use_idf=True,\n",
    "                        ngram_range=(1,1), # considering only 1-grams\n",
    "#                         min_df = 0.05,     # cut words present in less than 5% of documents\n",
    "                        max_df = 0.3)      # cut words present in more than 30% of documents \n",
    "t0 = time()\n",
    "\n",
    "tfidf = vectorizer.fit_transform(df['transcript'])\n",
    "print(\"done in %0.3fs.\" % (time() - t0))"
   ]
  },
  {
   "cell_type": "code",
   "execution_count": null,
   "metadata": {},
   "outputs": [],
   "source": [
    "from sklearn.decomposition import LatentDirichletAllocation\n",
    "\n",
    "n_topics = 30\n",
    "lda = LatentDirichletAllocation(n_components=n_topics,random_state=0)\n",
    "\n",
    "topics = lda.fit_transform(tfidf)\n",
    "top_n_words = 5\n",
    "t_words, word_strengths = {}, {}\n",
    "for t_id, t in enumerate(lda.components_):\n",
    "    t_words[t_id] = [vectorizer.get_feature_names()[i] for i in t.argsort()[:-top_n_words - 1:-1]]\n",
    "    word_strengths[t_id] = t[t.argsort()[:-top_n_words - 1:-1]]\n",
    "t_words"
   ]
  },
  {
   "cell_type": "code",
   "execution_count": null,
   "metadata": {},
   "outputs": [],
   "source": [
    "fig, ax = plt.subplots(figsize=(7,15), ncols=2, nrows=5)\n",
    "plt.subplots_adjust(\n",
    "    wspace  =  0.5,\n",
    "    hspace  =  0.5\n",
    ")\n",
    "c=0\n",
    "for row in range(0,5):\n",
    "    for col in range(0,2):\n",
    "        sns.barplot(x=word_strengths[c], y=t_words[c], color=\"red\", ax=ax[row][col])\n",
    "        c+=1\n",
    "plt.show()"
   ]
  },
  {
   "cell_type": "code",
   "execution_count": null,
   "metadata": {},
   "outputs": [],
   "source": [
    "from sklearn.decomposition import NMF\n",
    "\n",
    "n_topics = 50\n",
    "nmf = NMF(n_components=n_topics,random_state=0)\n",
    "\n",
    "topics = nmf.fit_transform(tfidf)\n",
    "top_n_words = 5\n",
    "t_words, word_strengths = {}, {}\n",
    "for t_id, t in enumerate(nmf.components_):\n",
    "    t_words[t_id] = [vectorizer.get_feature_names()[i] for i in t.argsort()[:-top_n_words - 1:-1]]\n",
    "    word_strengths[t_id] = t[t.argsort()[:-top_n_words - 1:-1]]\n",
    "t_words\n"
   ]
  },
  {
   "cell_type": "code",
   "execution_count": null,
   "metadata": {},
   "outputs": [],
   "source": [
    "fig, ax = plt.subplots(figsize=(7,15), ncols=5, nrows=10)\n",
    "plt.subplots_adjust(\n",
    "    wspace  =  0.5,\n",
    "    hspace  =  0.5\n",
    ")\n",
    "c=0\n",
    "for row in range(0,10):\n",
    "    for col in range(0,5):\n",
    "        sns.barplot(x=word_strengths[c], y=t_words[c], color=\"red\", ax=ax[row][col])\n",
    "        c+=1\n",
    "plt.show()"
   ]
  },
  {
   "cell_type": "code",
   "execution_count": null,
   "metadata": {},
   "outputs": [],
   "source": [
    "# Formulating a pipeline to insert a document and extract the topics pertinency\n",
    "from sklearn.pipeline import Pipeline\n",
    "pipe = Pipeline([\n",
    "    ('tfidf', vectorizer),\n",
    "    ('nmf', nmf)\n",
    "])\n",
    "\n",
    "# take second element for sort\n",
    "def takeSecond(elem):\n",
    "    return elem[1]\n",
    "\n",
    "def predict_best_topics_processed_string(string):\n",
    "    t = pipe.transform([string])\n",
    "    rev_topics = np.where(t>0.01)[1]\n",
    "    rev_topics_score = t[0][rev_topics]\n",
    "\n",
    "    rev_topscore = list(zip(rev_topics,rev_topics_score))\n",
    "    rev_topscore.sort(key = takeSecond, reverse = True)\n",
    "    return rev_topscore\n",
    "\n",
    "def predict_best_topics_doc(did):\n",
    "    string = df['transcript'].iloc[did]\n",
    "    \n",
    "    return predict_best_topics_processed_string(string)"
   ]
  },
  {
   "cell_type": "code",
   "execution_count": null,
   "metadata": {},
   "outputs": [],
   "source": [
    "def show_best_topics_doc(did):\n",
    "\n",
    "    print('For document #'+str(did)+'...')\n",
    "\n",
    "    rev_topscore = predict_best_topics_doc(did)\n",
    "    \n",
    "    print('\\nAll relevant topics (in order of descending relevance): \\n')\n",
    "    for top in range(len(rev_topscore)):\n",
    "        print(t_words[rev_topscore[top][0]])\n",
    "\n",
    "    print('\\nTranscript:\\n',df['transcript'].iloc[document_id][:500],'...')\n",
    "    print('\\nTrue tags from ted_main.csv: \\n',df['tags'].iloc[document_id])"
   ]
  },
  {
   "cell_type": "code",
   "execution_count": null,
   "metadata": {
    "scrolled": true
   },
   "outputs": [],
   "source": [
    "show_best_topics(1571)"
   ]
  },
  {
   "cell_type": "code",
   "execution_count": null,
   "metadata": {},
   "outputs": [],
   "source": [
    "correct = 0\n",
    "total = len(df.index)\n",
    "all_tags = []\n",
    "for tr in range(total):\n",
    "    print(tr)\n",
    "    rev_topscore = predict_best_topics_doc(tr)\n",
    "    if rev_topscore != []: \n",
    "        topic_tags = t_words[rev_topscore[0][0]]\n",
    "        given_tags = df['tags'][tr]\n",
    "    #     print(topic_tags)\n",
    "    #     print(given_tags)\n",
    "        for label in given_tags:\n",
    "            if label not in all_tags:\n",
    "                all_tags.append(label)\n",
    "        \n",
    "        for word in topic_tags:\n",
    "            if word in given_tags:\n",
    "                correct += 1\n",
    "\n",
    "\n",
    "print('Correct', correct)\n",
    "percentage_correct = (correct/len(all_tags))\n",
    "print('Percentage correct',percentage_correct)"
   ]
  },
  {
   "cell_type": "code",
   "execution_count": null,
   "metadata": {},
   "outputs": [],
   "source": [
    "def show_best_topics_string(string):\n",
    "    print('For string:',string)\n",
    "\n",
    "    rev_topscore = predict_best_topics_processed_string(string)\n",
    "    \n",
    "    print('\\nAll relevant topics (in order of descending relevance): \\n')\n",
    "    for top in range(len(rev_topscore)):\n",
    "        print(t_words[rev_topscore[top][0]])"
   ]
  },
  {
   "cell_type": "code",
   "execution_count": null,
   "metadata": {},
   "outputs": [],
   "source": [
    "your_input = input()\n",
    "show_best_topics_string(your_input)"
   ]
  },
  {
   "cell_type": "code",
   "execution_count": null,
   "metadata": {},
   "outputs": [],
   "source": []
  }
 ],
 "metadata": {
  "kernelspec": {
   "display_name": "Python 3",
   "language": "python",
   "name": "python3"
  },
  "language_info": {
   "codemirror_mode": {
    "name": "ipython",
    "version": 3
   },
   "file_extension": ".py",
   "mimetype": "text/x-python",
   "name": "python",
   "nbconvert_exporter": "python",
   "pygments_lexer": "ipython3",
   "version": "3.7.1"
  }
 },
 "nbformat": 4,
 "nbformat_minor": 2
}
